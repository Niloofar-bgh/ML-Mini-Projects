{
 "cells": [
  {
   "cell_type": "code",
   "execution_count": 1,
   "metadata": {},
   "outputs": [],
   "source": [
    "import numpy as np\n",
    "import matplotlib.pyplot as plt\n",
    "from matplotlib.legend_handler import HandlerLine2D"
   ]
  },
  {
   "cell_type": "code",
   "execution_count": 2,
   "metadata": {
    "collapsed": true
   },
   "outputs": [],
   "source": [
    "\"\"\" Finding W_hat \"\"\"\n",
    "def calculate_w_hat (x_train , y_train):\n",
    "    xtr = x_train.transpose()\n",
    "    xtrx = np.dot(xtr , x_train)\n",
    "    xtrx_inv = np.linalg.inv(xtrx)\n",
    "    w1= np.dot(xtrx_inv , xtr)\n",
    "    w_hat = np.dot(w1,y_train)\n",
    "    return(w_hat)"
   ]
  },
  {
   "cell_type": "code",
   "execution_count": 3,
   "metadata": {
    "collapsed": true
   },
   "outputs": [],
   "source": [
    "\n",
    "\"\"\" Finding Y_hat \"\"\"\n",
    "def calculate_y_hat (x_train , w_hat):\n",
    "    y_hat = np.dot(x_train , w_hat)\n",
    "    return(y_hat)"
   ]
  },
  {
   "cell_type": "code",
   "execution_count": 4,
   "metadata": {
    "collapsed": true
   },
   "outputs": [],
   "source": [
    "\"\"\" Finding Mean_Square_Error (MSE) \"\"\"\n",
    "def calculate_MSE (y_hat, y_train):\n",
    "    subtract = np.subtract(y_hat , y_train)\n",
    "    squared = np.power(subtract[:,0], 2)\n",
    "    add = squared.sum(axis = 0)\n",
    "    MSE = np.divide(add, 50)\n",
    "    return(MSE)"
   ]
  },
  {
   "cell_type": "code",
   "execution_count": 8,
   "metadata": {},
   "outputs": [
    {
     "name": "stdout",
     "output_type": "stream",
     "text": [
      "<class 'list'>\n"
     ]
    }
   ],
   "source": [
    "\"\"\" Data Extraction \"\"\"\n",
    "w_ridge_all = []\n",
    "x_train = []\n",
    "y_train = []\n",
    "with open('Dataset_1_train.csv','r') as file:\n",
    "    lines = file.readlines()\n",
    "    for l in lines:\n",
    "        lread = l.split(',')\n",
    "        x_train.append(float(lread[0]))\n",
    "        y_train.append(float(lread[1]))\n",
    "print(type(lread))\n",
    "np.set_printoptions(precision=10)\n",
    "x_train = np.matrix(x_train, dtype= np.float)\n",
    "x_train = x_train.transpose()\n",
    "y_train = np.matrix(y_train, dtype= np.float)\n",
    "y_train = y_train.transpose()\n"
   ]
  },
  {
   "cell_type": "code",
   "execution_count": 6,
   "metadata": {},
   "outputs": [
    {
     "name": "stdout",
     "output_type": "stream",
     "text": [
      "Train MSE: [[ 6.4747040051]]\n"
     ]
    }
   ],
   "source": [
    "\"\"\" Fit 20-degree polynomial \"\"\"\n",
    "x_train = np.insert(x_train, 0, 1, axis = 1)\n",
    "for n in range (2,21):\n",
    "    newrow = np.power( x_train[:,1] , n)\n",
    "    x_train = np.hstack([x_train, newrow])\n",
    "\n",
    "w_hat_train = calculate_w_hat(x_train , y_train)  \n",
    "y_hat_train = calculate_y_hat(x_train , w_hat_train)\n",
    "MSE = calculate_MSE(y_hat_train , y_train)\n",
    "print ('Train MSE:' , MSE)"
   ]
  },
  {
   "cell_type": "code",
   "execution_count": 7,
   "metadata": {
    "scrolled": true
   },
   "outputs": [
    {
     "data": {
      "image/png": "[encoded data removed]",
      "text/plain": [
       "<matplotlib.figure.Figure at 0x2ba21a74cc0>"
      ]
     },
     "metadata": {},
     "output_type": "display_data"
    }
   ],
   "source": [
    "a = np.array(x_train[:,1]).squeeze()\n",
    "b = np.array(y_train).squeeze()\n",
    "c = np.array (y_hat_train).squeeze()\n",
    "plt.scatter(a , b, label = 'Training')\n",
    "plt.scatter(a , c, label = 'Prediction')\n",
    "plt.xlabel('Training Set')\n",
    "plt.legend(loc ='upper left')\n",
    "plt.show()"
   ]
  },
  {
   "cell_type": "code",
   "execution_count": 8,
   "metadata": {
    "collapsed": true
   },
   "outputs": [],
   "source": [
    "\"\"\" Data Extraction \"\"\"\n",
    "x_val = []\n",
    "y_val = []\n",
    "with open('Dataset_1_valid.csv','r') as file:\n",
    "    lines = file.readlines()\n",
    "    for l in lines:\n",
    "        lread = l.split(',')\n",
    "        x_val.append(float(lread[0]))\n",
    "        y_val.append(float(lread[1]))\n",
    "\n",
    "np.set_printoptions(precision=10)\n",
    "x_val = np.matrix(x_val, dtype= np.float)\n",
    "x_val = x_val.transpose()\n",
    "y_val = np.matrix(y_val, dtype= np.float)\n",
    "y_val = y_val.transpose()"
   ]
  },
  {
   "cell_type": "code",
   "execution_count": 9,
   "metadata": {
    "collapsed": true
   },
   "outputs": [],
   "source": [
    "\"\"\" Fit 20-degree polynomial \"\"\"\n",
    "x_val = np.insert(x_val, 0, 1, axis = 1)\n",
    "# print(x_val.shape)\n",
    "for n in range (2,21):\n",
    "    newrow_val = np.power( x_val[:,1] , n)\n",
    "    x_val = np.hstack([x_val, newrow])\n",
    "#     print(x_val.shape)"
   ]
  },
  {
   "cell_type": "code",
   "execution_count": 10,
   "metadata": {},
   "outputs": [
    {
     "name": "stdout",
     "output_type": "stream",
     "text": [
      "Validation MSE: [[ 2942.9407753311]]\n"
     ]
    }
   ],
   "source": [
    "y_hat_val = calculate_y_hat(x_val , w_hat_train)\n",
    "MSE = calculate_MSE(y_hat_val , y_val)\n",
    "print ('Validation MSE:', MSE)"
   ]
  },
  {
   "cell_type": "code",
   "execution_count": 11,
   "metadata": {},
   "outputs": [
    {
     "data": {
      "image/png": "[encoded data removed]",
      "text/plain": [
       "<matplotlib.figure.Figure at 0x2ba22d04128>"
      ]
     },
     "metadata": {},
     "output_type": "display_data"
    }
   ],
   "source": [
    "a = np.array(x_val[:,1]).squeeze()\n",
    "b = np.array(y_val).squeeze()\n",
    "c = np.array (y_hat_val).squeeze()\n",
    "plt.scatter(a , b, label = 'Validation')\n",
    "plt.scatter(a , c, label = 'Prediction')\n",
    "plt.xlabel('Validation Set')\n",
    "plt.legend(loc ='lower left')\n",
    "plt.show()"
   ]
  },
  {
   "cell_type": "code",
   "execution_count": 12,
   "metadata": {
    "collapsed": true
   },
   "outputs": [],
   "source": [
    "def L2_Regularization(x_train , y_train, lam):\n",
    "    i = np.identity(21)\n",
    "    lam_i = np.dot( i, lam)\n",
    "    xtr = x_train.transpose()\n",
    "    xtrx = np.dot(xtr , x_train)\n",
    "    w_1 = np.add(xtrx, lam_i )\n",
    "    w_2 = np.linalg.inv (w_1)\n",
    "    w_3 = np.dot(xtr , y_train)\n",
    "    w_ridge = np.dot(w_2 , w_3)      \n",
    "    return(w_ridge)\n"
   ]
  },
  {
   "cell_type": "code",
   "execution_count": 13,
   "metadata": {
    "collapsed": true
   },
   "outputs": [],
   "source": [
    "MSE_all_train = []\n",
    "MSE_all_val = []\n",
    "info = []\n",
    "lambda_info = []\n",
    "for lam in  np.linspace(0, 1, 20):\n",
    "\n",
    "    w_ridge = L2_Regularization(x_train , y_train, lam)\n",
    "    w_ridge_all.append(w_ridge)\n",
    "    y_hat_train = calculate_y_hat(x_train , w_ridge)\n",
    "    MSE = calculate_MSE(y_hat_train , y_train)\n",
    "    MSE_all_train.append(MSE)\n",
    "    y_hat_val = calculate_y_hat(x_val , w_ridge)\n",
    "    MSE = calculate_MSE(y_hat_val , y_val)\n",
    "    MSE_all_val.append(MSE)\n",
    "    lambda_info.append([lam])\n"
   ]
  },
  {
   "cell_type": "code",
   "execution_count": 16,
   "metadata": {},
   "outputs": [
    {
     "name": "stdout",
     "output_type": "stream",
     "text": [
      "[ 0.            0.0526315789  0.1052631579  0.1578947368  0.2105263158\n",
      "  0.2631578947  0.3157894737  0.3684210526  0.4210526316  0.4736842105\n",
      "  0.5263157895  0.5789473684  0.6315789474  0.6842105263  0.7368421053\n",
      "  0.7894736842  0.8421052632  0.8947368421  0.9473684211  1.          ]\n",
      "\n",
      "All MSE's for Validation:\n",
      " [matrix([[ 2944.3558840219]]), matrix([[ 81.4156900597]]), matrix([[ 85.9334480978]]), matrix([[ 87.9066745116]]), matrix([[ 88.9989146768]]), matrix([[ 89.678589642]]), matrix([[ 90.1305901146]]), matrix([[ 90.4431280833]]), matrix([[ 90.6638264868]]), matrix([[ 90.8207480767]]), matrix([[ 90.9315485041]]), matrix([[ 91.0079158799]]), matrix([[ 91.0579094869]]), matrix([[ 91.0872748818]]), matrix([[ 91.1002236415]]), matrix([[ 91.0999164457]]), matrix([[ 91.0887736581]]), matrix([[ 91.0686814243]]), matrix([[ 91.0411322358]]), matrix([[ 91.0073231184]])]\n",
      "\n",
      "All MSE's for Train:\n",
      " [matrix([[ 6.4748319557]]), matrix([[ 8.9423319836]]), matrix([[ 9.0012191979]]), matrix([[ 9.0305419292]]), matrix([[ 9.0491508968]]), matrix([[ 9.062903277]]), matrix([[ 9.0742041717]]), matrix([[ 9.084221055]]), matrix([[ 9.0935872658]]), matrix([[ 9.1026744172]]), matrix([[ 9.1117134249]]), matrix([[ 9.1208540277]]), matrix([[ 9.1301964456]]), matrix([[ 9.1398093015]]), matrix([[ 9.1497402974]]), matrix([[ 9.1600228495]]), matrix([[ 9.1706803629]]), matrix([[ 9.1817290701]]), matrix([[ 9.1931799682]]), matrix([[ 9.2050401709]])]\n",
      "[[-3.1809015716]\n",
      " [ 7.2560334307]\n",
      " [ 1.1177328923]\n",
      " [-1.3174465609]\n",
      " [ 4.5293435232]\n",
      " [ 4.7209015638]\n",
      " [ 3.4018396711]\n",
      " [ 5.0395189922]\n",
      " [ 2.3695049031]\n",
      " [ 3.6538898626]\n",
      " [ 1.9491323579]\n",
      " [ 2.0590130034]\n",
      " [ 1.7717290202]\n",
      " [ 0.6932314409]\n",
      " [ 1.5775287073]\n",
      " [-0.3427238698]\n",
      " [ 1.2758661551]\n",
      " [-1.0633346559]\n",
      " [ 0.8666418798]\n",
      " [-1.5204513006]\n",
      " [ 0.3823761808]]\n"
     ]
    }
   ],
   "source": [
    "print(np.linspace(0, 1, 20))\n",
    "print ('\\n'\"All MSE's for Validation:\"'\\n', MSE_all_val)\n",
    "print ('\\n'\"All MSE's for Train:\"'\\n', MSE_all_train)\n",
    "print(w_ridge_all[1])"
   ]
  },
  {
   "cell_type": "code",
   "execution_count": 49,
   "metadata": {},
   "outputs": [
    {
     "data": {
      "image/png": "[encoded data removed]",
      "text/plain": [
       "<matplotlib.figure.Figure at 0x2b993710b70>"
      ]
     },
     "metadata": {},
     "output_type": "display_data"
    }
   ],
   "source": [
    "\"\"\" All MSE for Train \"\"\"\n",
    "a = np.array(MSE_all_train[:]).squeeze()\n",
    "c = np.array (lambda_info[:]).squeeze()\n",
    "plt.xlabel('Lambda')\n",
    "plt.ylabel('Training MSE')\n",
    "plt.plot(c, a, label = 'Train MSE')\n",
    "plt.legend(loc ='lower right')\n",
    "plt.show()"
   ]
  },
  {
   "cell_type": "code",
   "execution_count": 47,
   "metadata": {},
   "outputs": [
    {
     "data": {
      "image/png": "[encoded data removed]",
      "text/plain": [
       "<matplotlib.figure.Figure at 0x2b992440a20>"
      ]
     },
     "metadata": {},
     "output_type": "display_data"
    }
   ],
   "source": [
    "\"\"\" All MSE for Validation \"\"\"\n",
    "b = np.array(MSE_all_val[:]).squeeze()\n",
    "c = np.array (lambda_info[:]).squeeze()\n",
    "plt.plot (c, b, label = 'Validation MSE')\n",
    "plt.xlabel('Lambda')\n",
    "plt.ylabel('Validation MSE')\n",
    "plt.legend(loc ='upper right')\n",
    "plt.show()"
   ]
  },
  {
   "cell_type": "code",
   "execution_count": 48,
   "metadata": {
    "scrolled": true
   },
   "outputs": [
    {
     "data": {
      "image/png": "[encoded data removed]",
      "text/plain": [
       "<matplotlib.figure.Figure at 0x2b993798ba8>"
      ]
     },
     "metadata": {},
     "output_type": "display_data"
    }
   ],
   "source": [
    "\"\"\" Removing the highest MSE and plotting the rest for Validation \"\"\"\n",
    "b = np.array(MSE_all_val[1:]).squeeze()\n",
    "c = np.array (lambda_info[1:]).squeeze()\n",
    "plt.plot (c, b, label = 'Validation MSE')\n",
    "plt.xlabel('Lambda')\n",
    "plt.ylabel('Validation MSE')\n",
    "plt.legend(loc ='upper right')\n",
    "plt.show()"
   ]
  },
  {
   "cell_type": "code",
   "execution_count": 50,
   "metadata": {
    "collapsed": true
   },
   "outputs": [],
   "source": [
    "\"\"\" Data Extraction for Test Dataset \"\"\"\n",
    "x_test = []\n",
    "y_test = []\n",
    "with open('Dataset_1_test.csv','r') as file:\n",
    "    lines = file.readlines()\n",
    "    for l in lines:\n",
    "        lread = l.split(',')\n",
    "        x_test.append(float(lread[0]))\n",
    "        y_test.append(float(lread[1]))\n",
    "\n",
    "np.set_printoptions(precision=10)\n",
    "x_test = np.matrix(x_test, dtype= np.float)\n",
    "x_test = x_test.transpose()\n",
    "y_test = np.matrix(y_test, dtype= np.float)\n",
    "y_test = y_test.transpose()\n",
    "\n",
    "\"\"\" Fit 20-degree polynomial \"\"\"\n",
    "x_test = np.insert(x_test, 0, 1, axis = 1)\n",
    "for n in range (2,21):\n",
    "    newrow = np.power( x_test[:,1] , n)\n",
    "    x_test = np.hstack([x_test, newrow])"
   ]
  },
  {
   "cell_type": "code",
   "execution_count": 55,
   "metadata": {},
   "outputs": [
    {
     "name": "stdout",
     "output_type": "stream",
     "text": [
      "MSE Test: [[ 10.6080448123]]\n",
      "Best Lambda : 0.05263157894736842\n"
     ]
    }
   ],
   "source": [
    "lambda_best = np.array(lambda_info[1]).squeeze()\n",
    "w = L2_Regularization(x_train , y_train, lambda_best)\n",
    "y_hat_test = calculate_y_hat(x_test , w)\n",
    "MSE_test = calculate_MSE(y_hat_test, y_test)\n",
    "print ( \"MSE Test:\" , MSE_test)\n",
    "print (\"Best Lambda :\", lambda_best)"
   ]
  },
  {
   "cell_type": "code",
   "execution_count": 64,
   "metadata": {},
   "outputs": [
    {
     "data": {
      "image/png": "[encoded data removed]",
      "text/plain": [
       "<matplotlib.figure.Figure at 0x2b9956c92e8>"
      ]
     },
     "metadata": {},
     "output_type": "display_data"
    }
   ],
   "source": [
    "a = np.array(x_test[:,1]).squeeze()\n",
    "b = np.array(y_test).squeeze()\n",
    "c = np.array (y_hat_test).squeeze()\n",
    "plt.scatter(a , b, label = 'Test')\n",
    "plt.scatter(a , c, label = 'Prediction')\n",
    "plt.xlabel('Test Set')\n",
    "plt.legend(loc ='upper left')\n",
    "plt.show()"
   ]
  }
 ],
 "metadata": {
  "kernelspec": {
   "display_name": "Python [default]",
   "language": "python",
   "name": "python2"
  },
  "language_info": {
   "codemirror_mode": {
    "name": "ipython",
    "version": 2
   },
   "file_extension": ".py",
   "mimetype": "text/x-python",
   "name": "python",
   "nbconvert_exporter": "python",
   "pygments_lexer": "ipython2",
   "version": "2.7.14"
  }
 },
 "nbformat": 4,
 "nbformat_minor": 2
}
