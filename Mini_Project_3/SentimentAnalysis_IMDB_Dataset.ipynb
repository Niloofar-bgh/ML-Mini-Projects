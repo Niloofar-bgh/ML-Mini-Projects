{
 "cells": [
  {
   "cell_type": "code",
   "execution_count": 38,
   "metadata": {
    "collapsed": true
   },
   "outputs": [],
   "source": [
    "import numpy as np\n",
    "import string \n",
    "from collections import Counter\n",
    "from sklearn import svm \n",
    "from sklearn.svm import LinearSVC\n",
    "from sklearn.metrics import f1_score\n",
    "from sklearn.naive_bayes import BernoulliNB\n",
    "from sklearn.naive_bayes import GaussianNB\n",
    "from sklearn.tree import DecisionTreeClassifier\n",
    "import matplotlib.pyplot as plt\n",
    "from sklearn.model_selection import GridSearchCV\n",
    "from sklearn.metrics import accuracy_score\n",
    "from sklearn.metrics import classification_report\n",
    "from sklearn.metrics import confusion_matrix\n",
    "import matplotlib.pyplot as plt\n",
    "import itertools"
   ]
  },
  {
   "cell_type": "code",
   "execution_count": 2,
   "metadata": {
    "collapsed": true
   },
   "outputs": [],
   "source": [
    "\"\"\" Importing IMDB Training Set \"\"\"\n",
    "train_IMDB_par = []\n",
    "train_IMDB_label = []\n",
    "with open ('IMDB-train.txt','r',encoding=\"utf8\") as file:\n",
    "    lines = file.readlines()\n",
    "    for l in lines:\n",
    "        lread = l.split('.\\n') \n",
    "        lread = [''.join(c for c in s if c not in string.punctuation) for s in lread]\n",
    "        train_IMDB_par.append(np.array(lread[0][:-3])) \n",
    "        train_IMDB_label.append(np.array(lread[0][-2]))\n",
    "train_IMDB_par = np.char.lower( train_IMDB_par) \n",
    "train_IMDB_label= np.array(train_IMDB_label)\n",
    "train_IMDB_par = np.reshape(train_IMDB_par,(15000,1))\n",
    "train_IMDB_label = np.reshape(train_IMDB_label,(15000,1))\n",
    "train_IMDB = np.hstack ((train_IMDB_par,train_IMDB_label))\n",
    "\n",
    "# print(len(train_IMDB_label))\n",
    "# print(train_IMDB_label.shape)\n",
    "# print(train_IMDB_par.shape)\n",
    "# print(train_IMDB.shape)\n",
    "# # print(train_IMDB[0][0])"
   ]
  },
  {
   "cell_type": "code",
   "execution_count": 3,
   "metadata": {
    "collapsed": true
   },
   "outputs": [],
   "source": [
    "\"\"\" Importing IMDB Validation Set \"\"\"\n",
    "valid_IMDB_par = []\n",
    "valid_IMDB_label = []\n",
    "with open ('IMDB-valid.txt','r',encoding=\"utf8\") as file:\n",
    "    lines = file.readlines()\n",
    "    for l in lines:\n",
    "        lread = l.split('.\\n') \n",
    "        lread = [''.join(c for c in s if c not in string.punctuation) for s in lread]\n",
    "        valid_IMDB_par.append(np.array(lread[0][:-3])) \n",
    "        valid_IMDB_label.append(np.array(lread[0][-2]))\n",
    "valid_IMDB_par = np.char.lower( valid_IMDB_par) \n",
    "valid_IMDB_label= np.array(valid_IMDB_label)\n",
    "valid_IMDB_par = np.reshape(valid_IMDB_par,(10000,1))\n",
    "valid_IMDB_label = np.reshape(valid_IMDB_label,(10000,1))\n",
    "valid_IMDB = np.hstack ((valid_IMDB_par,valid_IMDB_label))\n",
    "\n",
    "# print(len(valid_IMDB_label))\n",
    "# print(valid_IMDB_label.shape)\n",
    "# print(valid_IMDB_par.shape)\n",
    "# print(valid_IMDB.shape)\n",
    "# # print(valid_IMDB[0][1])"
   ]
  },
  {
   "cell_type": "code",
   "execution_count": 4,
   "metadata": {
    "collapsed": true
   },
   "outputs": [],
   "source": [
    "\"\"\" Importing IMDB Test Set \"\"\"\n",
    "test_IMDB_par = []\n",
    "test_IMDB_label = []\n",
    "with open ('IMDB-test.txt','r',encoding=\"utf8\") as file:\n",
    "    lines = file.readlines()\n",
    "    for l in lines:\n",
    "        lread = l.split('.\\n') \n",
    "        lread = [''.join(c for c in s if c not in string.punctuation) for s in lread]\n",
    "        test_IMDB_par.append(np.array(lread[0][:-3])) \n",
    "        test_IMDB_label.append(np.array(lread[0][-2]))\n",
    "test_IMDB_par = np.char.lower( test_IMDB_par) \n",
    "test_IMDB_label= np.array(test_IMDB_label)\n",
    "test_IMDB_par = np.reshape(test_IMDB_par,(25000,1))\n",
    "test_IMDB_label = np.reshape(test_IMDB_label,(25000,1))\n",
    "test_IMDB = np.hstack ((test_IMDB_par,test_IMDB_label))\n",
    "\n",
    "# print(len(test_IMDB_label))\n",
    "# print(test_IMDB_label.shape)\n",
    "# print(test_IMDB_par.shape)\n",
    "# print(test_IMDB.shape)\n",
    "# # print(test_IMDB[0][1])"
   ]
  },
  {
   "cell_type": "code",
   "execution_count": 5,
   "metadata": {
    "collapsed": true
   },
   "outputs": [],
   "source": [
    "def CountFrequency(x):\n",
    "    x = x.squeeze()\n",
    "    l = []\n",
    "    for i in range(len(x)):\n",
    "        l.append(x[i])\n",
    "    l = ''.join(l)\n",
    "    l = l.replace('  ', ' ')\n",
    "    l = l.split(' ')\n",
    "    l = [i for i in l if not i.isdigit()]\n",
    "    return Counter(l)"
   ]
  },
  {
   "cell_type": "code",
   "execution_count": 6,
   "metadata": {
    "collapsed": true
   },
   "outputs": [],
   "source": [
    "\"\"\" Counting Words in Training Set of IMDB Dataset \"\"\"\n",
    "train_IMDB_vocab = CountFrequency(train_IMDB_par)\n",
    "IMDB_FeatureSet = train_IMDB_vocab.most_common(10000)\n",
    "# print(IMDB_FeatureSet)\n",
    "# print(train_IMDB_vocab)\n",
    "IMDB_Feature = []\n",
    "IMDB_FeatureValue = []\n",
    "for i in range(len(IMDB_FeatureSet)):\n",
    "    IMDB_Feature.append(IMDB_FeatureSet[i][0])\n",
    "    IMDB_FeatureValue.append(IMDB_FeatureSet[i][1])\n",
    "    \n",
    "# IMDB_Feature = np.transpose(np.array([IMDB_Feature]))\n",
    "# IMDB_FeatureValue = np.transpose(np.array([IMDB_FeatureValue]))\n",
    "\n",
    "# print(IMDB_FeatureSet)\n",
    "# print(IMDB_Feature[0:10])\n",
    "# print(IMDB_FeatureValue [0:10])\n"
   ]
  },
  {
   "cell_type": "code",
   "execution_count": 7,
   "metadata": {
    "scrolled": true
   },
   "outputs": [
    {
     "name": "stdout",
     "output_type": "stream",
     "text": [
      "['the' '1' '198988']\n"
     ]
    }
   ],
   "source": [
    "Vocab = []\n",
    "index = []\n",
    "Vocab_new = np.zeros([10000,1])\n",
    "# np.str(Vocab_new)\n",
    "Vocab = np.chararray((10000,3))\n",
    "for i in range(len(Vocab)):\n",
    "    index.append(i+1)\n",
    "Vocab = np.vstack((IMDB_Feature, index))\n",
    "Vocab = Vocab.T\n",
    "Vocab = np.insert(Vocab, 2, IMDB_FeatureValue , axis=1)\n",
    "print(Vocab[0])"
   ]
  },
  {
   "cell_type": "code",
   "execution_count": 8,
   "metadata": {
    "collapsed": true
   },
   "outputs": [],
   "source": [
    "with open('./dataset/IMDB-vocab.txt', 'w',encoding=\"utf8\") as f:\n",
    "    for line in Vocab:\n",
    "        f.write(line[0]+' '+line[1]+' '+line[2]+'\\n')"
   ]
  },
  {
   "cell_type": "code",
   "execution_count": 9,
   "metadata": {
    "collapsed": true
   },
   "outputs": [],
   "source": [
    "dictionary = {}\n",
    "for word in Vocab:\n",
    "    dictionary[word[0]] = word[1]"
   ]
  },
  {
   "cell_type": "code",
   "execution_count": 10,
   "metadata": {
    "collapsed": true,
    "scrolled": true
   },
   "outputs": [],
   "source": [
    "train = []\n",
    "for i in range(len(train_IMDB)):\n",
    "    sentence = []\n",
    "    words = train_IMDB[i][0].split()\n",
    "    for j in range(len(words)):\n",
    "        if words[j] in dictionary:\n",
    "            sentence.append(dictionary[words[j]])\n",
    "    sentence = ' '.join(sentence)\n",
    "    train.append([sentence,train_IMDB[i][1]])\n",
    "    "
   ]
  },
  {
   "cell_type": "code",
   "execution_count": 11,
   "metadata": {
    "collapsed": true
   },
   "outputs": [],
   "source": [
    "with open('./dataset/IMDB-train.txt', 'w',encoding=\"utf8\") as f:\n",
    "    for line in train:\n",
    "        f.write(line[0]+' '+line[1]+'\\n')"
   ]
  },
  {
   "cell_type": "code",
   "execution_count": 12,
   "metadata": {
    "collapsed": true
   },
   "outputs": [],
   "source": [
    "validation = []\n",
    "for i in range(len(valid_IMDB)):\n",
    "    sentence = []\n",
    "    words = valid_IMDB[i][0].split()\n",
    "    for j in range(len(words)):\n",
    "        if words[j] in dictionary:\n",
    "            sentence.append(dictionary[words[j]])\n",
    "    sentence = ' '.join(sentence)\n",
    "    validation.append([sentence,valid_IMDB[i][1]])"
   ]
  },
  {
   "cell_type": "code",
   "execution_count": 13,
   "metadata": {
    "collapsed": true
   },
   "outputs": [],
   "source": [
    "with open('./dataset/IMDB-valid.txt', 'w',encoding=\"utf8\") as f:\n",
    "    for line in validation:\n",
    "        f.write(line[0]+' '+line[1]+'\\n')"
   ]
  },
  {
   "cell_type": "code",
   "execution_count": 14,
   "metadata": {
    "collapsed": true
   },
   "outputs": [],
   "source": [
    "test = []\n",
    "for i in range(len(test_IMDB)):\n",
    "    sentence = []\n",
    "    words = test_IMDB[i][0].split()\n",
    "    for j in range(len(words)):\n",
    "        if words[j] in dictionary:\n",
    "            sentence.append(dictionary[words[j]])\n",
    "    sentence = ' '.join(sentence)\n",
    "    test.append([sentence,test_IMDB[i][1]])"
   ]
  },
  {
   "cell_type": "code",
   "execution_count": 15,
   "metadata": {
    "collapsed": true
   },
   "outputs": [],
   "source": [
    "with open('./dataset/IMDB-test.txt', 'w',encoding=\"utf8\") as f:\n",
    "    for line in validation:\n",
    "        f.write(line[0]+' '+line[1]+'\\n')"
   ]
  },
  {
   "cell_type": "markdown",
   "metadata": {},
   "source": [
    "# Random Classifier\n"
   ]
  },
  {
   "cell_type": "code",
   "execution_count": 16,
   "metadata": {},
   "outputs": [
    {
     "name": "stdout",
     "output_type": "stream",
     "text": [
      "Accuracy of Random Classifier:  50.564\n",
      "F1-Measure for Random Classifier: 50.5636658104\n"
     ]
    }
   ],
   "source": [
    "\"\"\" Random Classifier \"\"\"\n",
    "random_label = np.zeros([25000])\n",
    "np.random.seed(1)\n",
    "for i in range(len(test_IMDB_label)):\n",
    "    random_label[i] = np.random.randint(0,2) \n",
    "    \n",
    "test_labels = np.array(test_IMDB_label, dtype= float)\n",
    "\n",
    "counter = 0\n",
    "for i in range(len(test_labels)):\n",
    "    if test_labels[i] == random_label[i]:\n",
    "        counter = counter + 1\n",
    "# print(counter)\n",
    "\n",
    "performance_randomClassifier = (counter/len(test_labels))*100\n",
    "print(\"Accuracy of Random Classifier: \",performance_randomClassifier)\n",
    "\n",
    "\n",
    "\"\"\" Calculate F1-Measure \"\"\"\n",
    "\n",
    "F1_measure = f1_score(test_labels, random_label, average='macro')*100\n",
    "\n",
    "print(\"F1-Measure for Random Classifier:\", F1_measure)"
   ]
  },
  {
   "cell_type": "markdown",
   "metadata": {},
   "source": [
    "#  Binary Bag-of-word \n"
   ]
  },
  {
   "cell_type": "code",
   "execution_count": 17,
   "metadata": {},
   "outputs": [],
   "source": [
    "IMDB_TrainBinaryBag = np.zeros([15000,10000]) \n",
    "for i in range(len(train_IMDB_par)):\n",
    "    sentence = np.apply_along_axis(lambda a: (a[0].split(' ')),0,train_IMDB_par[i])\n",
    "    for j in range(len(IMDB_Feature)):\n",
    "        if IMDB_Feature[j] in sentence:\n",
    "            IMDB_TrainBinaryBag[i][j] = 1"
   ]
  },
  {
   "cell_type": "code",
   "execution_count": 18,
   "metadata": {},
   "outputs": [],
   "source": [
    "IMDB_ValidBinaryBag = np.zeros([10000,10000]) \n",
    "for i in range(len(valid_IMDB_par)):\n",
    "    sentence = np.apply_along_axis(lambda a: (a[0].split(' ')),0,valid_IMDB_par[i])\n",
    "    for j in range(len(IMDB_Feature)):\n",
    "        if IMDB_Feature[j] in sentence:\n",
    "            IMDB_ValidBinaryBag[i][j] = 1"
   ]
  },
  {
   "cell_type": "code",
   "execution_count": 19,
   "metadata": {
    "collapsed": true
   },
   "outputs": [],
   "source": [
    "IMDB_TestBinaryBag = np.zeros([25000,10000])\n",
    "for i in range(len(test_IMDB_par)):\n",
    "    sentence = np.apply_along_axis(lambda a: (a[0].split(' ')),0,test_IMDB_par[i])\n",
    "    for j in range(len(IMDB_Feature)):\n",
    "        if IMDB_Feature[j] in sentence:\n",
    "            IMDB_TestBinaryBag[i][j] = 1"
   ]
  },
  {
   "cell_type": "markdown",
   "metadata": {},
   "source": [
    "# Naive Bayes Hyperparameter Tuning"
   ]
  },
  {
   "cell_type": "code",
   "execution_count": 20,
   "metadata": {},
   "outputs": [
    {
     "name": "stderr",
     "output_type": "stream",
     "text": [
      "C:\\Users\\niloo\\Anaconda3\\lib\\site-packages\\sklearn\\naive_bayes.py:472: UserWarning: alpha too small will result in numeric errors, setting alpha = 1.0e-10\n",
      "  'setting alpha = %.1e' % _ALPHA_MIN)\n"
     ]
    },
    {
     "name": "stdout",
     "output_type": "stream",
     "text": [
      "Validation F1-Measure: 83.9772081888 \t\talpha: 0.0\n",
      "Validation F1-Measure: 84.1764396989 \t\talpha: 0.0134228187919\n",
      "Validation F1-Measure: 84.1963487244 \t\talpha: 0.0268456375839\n",
      "Validation F1-Measure: 84.1963487244 \t\talpha: 0.0402684563758\n",
      "Validation F1-Measure: 84.2163533463 \t\talpha: 0.0536912751678\n",
      "Validation F1-Measure: 84.1964441999 \t\talpha: 0.0671140939597\n",
      "Validation F1-Measure: 84.1965384098 \t\talpha: 0.0805369127517\n",
      "Validation F1-Measure: 84.2064936837 \t\talpha: 0.0939597315436\n",
      "Validation F1-Measure: 84.1863943398 \t\talpha: 0.107382550336\n",
      "Validation F1-Measure: 84.1863943398 \t\talpha: 0.120805369128\n",
      "Validation F1-Measure: 84.1963487244 \t\talpha: 0.134228187919\n",
      "Validation F1-Measure: 84.1963487244 \t\talpha: 0.147651006711\n",
      "Validation F1-Measure: 84.1963487244 \t\talpha: 0.161073825503\n",
      "Validation F1-Measure: 84.1863943398 \t\talpha: 0.174496644295\n",
      "Validation F1-Measure: 84.1863943398 \t\talpha: 0.187919463087\n",
      "Validation F1-Measure: 84.2162567274 \t\talpha: 0.201342281879\n",
      "Validation F1-Measure: 84.2162567274 \t\talpha: 0.214765100671\n",
      "Validation F1-Measure: 84.2163533463 \t\talpha: 0.228187919463\n",
      "Validation F1-Measure: 84.2162567274 \t\talpha: 0.241610738255\n",
      "Validation F1-Measure: 84.2162567274 \t\talpha: 0.255033557047\n",
      "Validation F1-Measure: 84.2162567274 \t\talpha: 0.268456375839\n",
      "Validation F1-Measure: 84.2162567274 \t\talpha: 0.281879194631\n",
      "Validation F1-Measure: 84.2062055409 \t\talpha: 0.295302013423\n",
      "Validation F1-Measure: 84.196153976 \t\talpha: 0.308724832215\n",
      "Validation F1-Measure: 84.1861020323 \t\talpha: 0.322147651007\n",
      "Validation F1-Measure: 84.1960547031 \t\talpha: 0.335570469799\n",
      "Validation F1-Measure: 84.1960547031 \t\talpha: 0.348993288591\n",
      "Validation F1-Measure: 84.1861020323 \t\talpha: 0.362416107383\n",
      "Validation F1-Measure: 84.1960547031 \t\talpha: 0.375838926174\n",
      "Validation F1-Measure: 84.2061069633 \t\talpha: 0.389261744966\n",
      "Validation F1-Measure: 84.2061069633 \t\talpha: 0.402684563758\n",
      "Validation F1-Measure: 84.2061069633 \t\talpha: 0.41610738255\n",
      "Validation F1-Measure: 84.1960547031 \t\talpha: 0.429530201342\n",
      "Validation F1-Measure: 84.1960547031 \t\talpha: 0.442953020134\n",
      "Validation F1-Measure: 84.1960547031 \t\talpha: 0.456375838926\n",
      "Validation F1-Measure: 84.1960547031 \t\talpha: 0.469798657718\n",
      "Validation F1-Measure: 84.2060071207 \t\talpha: 0.48322147651\n",
      "Validation F1-Measure: 84.1959541643 \t\talpha: 0.496644295302\n",
      "Validation F1-Measure: 84.1859008274 \t\talpha: 0.510067114094\n",
      "Validation F1-Measure: 84.1859008274 \t\talpha: 0.523489932886\n",
      "Validation F1-Measure: 84.1657930095 \t\talpha: 0.536912751678\n",
      "Validation F1-Measure: 84.1757439081 \t\talpha: 0.55033557047\n",
      "Validation F1-Measure: 84.1757439081 \t\talpha: 0.563758389262\n",
      "Validation F1-Measure: 84.1657930095 \t\talpha: 0.577181208054\n",
      "Validation F1-Measure: 84.1657930095 \t\talpha: 0.590604026846\n",
      "Validation F1-Measure: 84.1357331468 \t\talpha: 0.604026845638\n",
      "Validation F1-Measure: 84.1357331468 \t\talpha: 0.61744966443\n",
      "Validation F1-Measure: 84.1456836624 \t\talpha: 0.630872483221\n",
      "Validation F1-Measure: 84.1356284138 \t\talpha: 0.644295302013\n",
      "Validation F1-Measure: 84.1455783603 \t\talpha: 0.657718120805\n",
      "Validation F1-Measure: 84.1455783603 \t\talpha: 0.671140939597\n",
      "Validation F1-Measure: 84.1455783603 \t\talpha: 0.684563758389\n",
      "Validation F1-Measure: 84.1455783603 \t\talpha: 0.697986577181\n",
      "Validation F1-Measure: 84.125572781 \t\talpha: 0.711409395973\n",
      "Validation F1-Measure: 84.1355224098 \t\talpha: 0.724832214765\n",
      "Validation F1-Measure: 84.1355224098 \t\talpha: 0.738255033557\n",
      "Validation F1-Measure: 84.125572781 \t\talpha: 0.751677852349\n",
      "Validation F1-Measure: 84.115622901 \t\talpha: 0.765100671141\n",
      "Validation F1-Measure: 84.1055672016 \t\talpha: 0.778523489933\n",
      "Validation F1-Measure: 84.1155167635 \t\talpha: 0.791946308725\n",
      "Validation F1-Measure: 84.125572781 \t\talpha: 0.805369127517\n",
      "Validation F1-Measure: 84.1054603605 \t\talpha: 0.818791946309\n",
      "Validation F1-Measure: 84.1054603605 \t\talpha: 0.832214765101\n",
      "Validation F1-Measure: 84.1054603605 \t\talpha: 0.845637583893\n",
      "Validation F1-Measure: 84.0853463961 \t\talpha: 0.859060402685\n",
      "Validation F1-Measure: 84.0853463961 \t\talpha: 0.872483221477\n",
      "Validation F1-Measure: 84.0853463961 \t\talpha: 0.885906040268\n",
      "Validation F1-Measure: 84.0852368705 \t\talpha: 0.89932885906\n",
      "Validation F1-Measure: 84.0852368705 \t\talpha: 0.912751677852\n",
      "Validation F1-Measure: 84.0852368705 \t\talpha: 0.926174496644\n",
      "Validation F1-Measure: 84.0852368705 \t\talpha: 0.939597315436\n",
      "Validation F1-Measure: 84.0852368705 \t\talpha: 0.953020134228\n",
      "Validation F1-Measure: 84.065230883 \t\talpha: 0.96644295302\n",
      "Validation F1-Measure: 84.065230883 \t\talpha: 0.979865771812\n",
      "Validation F1-Measure: 84.055172544 \t\talpha: 0.993288590604\n",
      "Validation F1-Measure: 84.055172544 \t\talpha: 1.0067114094\n",
      "Validation F1-Measure: 84.055172544 \t\talpha: 1.02013422819\n",
      "Validation F1-Measure: 84.055172544 \t\talpha: 1.03355704698\n",
      "Validation F1-Measure: 84.055172544 \t\talpha: 1.04697986577\n",
      "Validation F1-Measure: 84.055172544 \t\talpha: 1.06040268456\n",
      "Validation F1-Measure: 84.055172544 \t\talpha: 1.07382550336\n",
      "Validation F1-Measure: 84.065119943 \t\talpha: 1.08724832215\n",
      "Validation F1-Measure: 84.065119943 \t\talpha: 1.10067114094\n",
      "Validation F1-Measure: 84.0550608957 \t\talpha: 1.11409395973\n",
      "Validation F1-Measure: 84.0550608957 \t\talpha: 1.12751677852\n",
      "Validation F1-Measure: 84.0549479697 \t\talpha: 1.14093959732\n",
      "Validation F1-Measure: 84.0549479697 \t\talpha: 1.15436241611\n",
      "Validation F1-Measure: 84.0548337661 \t\talpha: 1.1677852349\n",
      "Validation F1-Measure: 84.0548337661 \t\talpha: 1.18120805369\n",
      "Validation F1-Measure: 84.0548337661 \t\talpha: 1.19463087248\n",
      "Validation F1-Measure: 84.0548337661 \t\talpha: 1.20805369128\n",
      "Validation F1-Measure: 84.0548337661 \t\talpha: 1.22147651007\n",
      "Validation F1-Measure: 84.0548337661 \t\talpha: 1.23489932886\n",
      "Validation F1-Measure: 84.0548337661 \t\talpha: 1.24832214765\n",
      "Validation F1-Measure: 84.0548337661 \t\talpha: 1.26174496644\n",
      "Validation F1-Measure: 84.0647794624 \t\talpha: 1.27516778523\n",
      "Validation F1-Measure: 84.0747249119 \t\talpha: 1.28859060403\n",
      "Validation F1-Measure: 84.0646634151 \t\talpha: 1.30201342282\n",
      "Validation F1-Measure: 84.0646634151 \t\talpha: 1.31543624161\n",
      "Validation F1-Measure: 84.0646634151 \t\talpha: 1.3288590604\n",
      "Validation F1-Measure: 84.0445392436 \t\talpha: 1.34228187919\n",
      "Validation F1-Measure: 84.0445392436 \t\talpha: 1.35570469799\n",
      "Validation F1-Measure: 84.0445392436 \t\talpha: 1.36912751678\n",
      "Validation F1-Measure: 84.0546015259 \t\talpha: 1.38255033557\n",
      "Validation F1-Measure: 84.0645460909 \t\talpha: 1.39597315436\n",
      "Validation F1-Measure: 84.0744904107 \t\talpha: 1.40939597315\n",
      "Validation F1-Measure: 84.0744904107 \t\talpha: 1.42281879195\n",
      "Validation F1-Measure: 84.0744904107 \t\talpha: 1.43624161074\n",
      "Validation F1-Measure: 84.0844344859 \t\talpha: 1.44966442953\n",
      "Validation F1-Measure: 84.0743712458 \t\talpha: 1.46308724832\n",
      "Validation F1-Measure: 84.0743712458 \t\talpha: 1.47651006711\n",
      "Validation F1-Measure: 84.0643076113 \t\talpha: 1.48993288591\n",
      "Validation F1-Measure: 84.0643076113 \t\talpha: 1.5033557047\n",
      "Validation F1-Measure: 84.0643076113 \t\talpha: 1.51677852349\n",
      "Validation F1-Measure: 84.0643076113 \t\talpha: 1.53020134228\n",
      "Validation F1-Measure: 84.0643076113 \t\talpha: 1.54362416107\n",
      "Validation F1-Measure: 84.044179157 \t\talpha: 1.55704697987\n",
      "Validation F1-Measure: 84.044179157 \t\talpha: 1.57046979866\n",
      "Validation F1-Measure: 84.044179157 \t\talpha: 1.58389261745\n",
      "Validation F1-Measure: 84.0240491181 \t\talpha: 1.59731543624\n",
      "Validation F1-Measure: 84.0240491181 \t\talpha: 1.61073825503\n",
      "Validation F1-Measure: 84.0240491181 \t\talpha: 1.62416107383\n",
      "Validation F1-Measure: 84.0240491181 \t\talpha: 1.63758389262\n",
      "Validation F1-Measure: 84.0339910329 \t\talpha: 1.65100671141\n",
      "Validation F1-Measure: 84.0339910329 \t\talpha: 1.6644295302\n",
      "Validation F1-Measure: 84.0538741363 \t\talpha: 1.67785234899\n",
      "Validation F1-Measure: 84.0538741363 \t\talpha: 1.69127516779\n",
      "Validation F1-Measure: 84.0438075613 \t\talpha: 1.70469798658\n",
      "Validation F1-Measure: 84.0438075613 \t\talpha: 1.71812080537\n",
      "Validation F1-Measure: 84.0438075613 \t\talpha: 1.73154362416\n",
      "Validation F1-Measure: 84.0636890615 \t\talpha: 1.74496644295\n",
      "Validation F1-Measure: 84.0636890615 \t\talpha: 1.75838926174\n",
      "Validation F1-Measure: 84.0736294518 \t\talpha: 1.77181208054\n",
      "Validation F1-Measure: 84.083569603 \t\talpha: 1.78523489933\n",
      "Validation F1-Measure: 84.083569603 \t\talpha: 1.79865771812\n",
      "Validation F1-Measure: 84.093637455 \t\talpha: 1.81208053691\n"
     ]
    },
    {
     "name": "stdout",
     "output_type": "stream",
     "text": [
      "Validation F1-Measure: 84.093637455 \t\talpha: 1.8255033557\n",
      "Validation F1-Measure: 84.1135176798 \t\talpha: 1.8389261745\n",
      "Validation F1-Measure: 84.1135176798 \t\talpha: 1.85234899329\n",
      "Validation F1-Measure: 84.1034491904 \t\talpha: 1.86577181208\n",
      "Validation F1-Measure: 84.1034491904 \t\talpha: 1.87919463087\n",
      "Validation F1-Measure: 84.1034491904 \t\talpha: 1.89261744966\n",
      "Validation F1-Measure: 84.1034491904 \t\talpha: 1.90604026846\n",
      "Validation F1-Measure: 84.1034491904 \t\talpha: 1.91946308725\n",
      "Validation F1-Measure: 84.1034491904 \t\talpha: 1.93288590604\n",
      "Validation F1-Measure: 84.1034491904 \t\talpha: 1.94630872483\n",
      "Validation F1-Measure: 84.1034491904 \t\talpha: 1.95973154362\n",
      "Validation F1-Measure: 84.0933803011 \t\talpha: 1.97315436242\n",
      "Validation F1-Measure: 84.0933803011 \t\talpha: 1.98657718121\n",
      "Validation F1-Measure: 84.0833110115 \t\talpha: 2.0\n",
      "\n",
      "Best Alpha is 0.0536912751678 and F1-Measure for validation set corresponding to best Alpha is 84.2163533463\n"
     ]
    },
    {
     "data": {
      "image/png": "[encoded data removed]",
      "text/plain": [
       "<matplotlib.figure.Figure at 0x1d5bc033828>"
      ]
     },
     "metadata": {},
     "output_type": "display_data"
    }
   ],
   "source": [
    "\"\"\" Naive Bayes \"\"\"\n",
    "x_NB_train = IMDB_TrainBinaryBag\n",
    "y_NB_train = np.ravel(train_IMDB_label)\n",
    "x_NB_valid = IMDB_ValidBinaryBag\n",
    "y_NB_valid = np.ravel(valid_IMDB_label)\n",
    "x_NB_test = IMDB_TestBinaryBag\n",
    "y_NB_test = np.ravel(test_IMDB_label)\n",
    "\n",
    "\"\"\"Hyper Parameter Tuning on Validation Set\"\"\"\n",
    "F1_measure_NB = []\n",
    "alpha_list_NB = []\n",
    "for alpha in np.linspace(0,2,150):\n",
    "    mnb = BernoulliNB(alpha =alpha)\n",
    "    mnb.fit(x_NB_train,y_NB_train)\n",
    "    result_valid= mnb.predict(x_NB_valid)\n",
    "    F1_measure_valid = f1_score(valid_IMDB_label ,result_valid ,average='macro')*100\n",
    "    F1_measure_NB = np.append(F1_measure_NB, F1_measure_valid)\n",
    "    alpha_list_NB = np.append(alpha_list_NB, alpha)\n",
    "    print(\"Validation F1-Measure:\", F1_measure_valid,\"\\t\\t\"\"alpha:\", alpha)\n",
    "\n",
    "bestalpha = alpha_list_NB[np.argmax(F1_measure_NB)]\n",
    "print('\\n''Best Alpha is', bestalpha,'and F1-Measure for validation set corresponding to best Alpha is', max(F1_measure_NB))\n",
    "\n",
    "\"\"\" Plotting \"\"\"\n",
    "\n",
    "a = F1_measure_NB.squeeze()\n",
    "b = alpha_list_NB.squeeze()\n",
    "plt.plot(b , a)\n",
    "plt.ylabel('F1-Measure')\n",
    "plt.xlabel('Alpha')\n",
    "# plt.legend(loc ='upper right')\n",
    "plt.show()"
   ]
  },
  {
   "cell_type": "markdown",
   "metadata": {},
   "source": [
    "# Naive Bayse Classifier"
   ]
  },
  {
   "cell_type": "code",
   "execution_count": 59,
   "metadata": {},
   "outputs": [
    {
     "name": "stdout",
     "output_type": "stream",
     "text": [
      "Train Set has Accuracy 86.8333333333 and F1-Measure 86.8283076595 .\n",
      "Validation Set has Accuracy 84.06 and F1-Measure 84.055172544 .\n",
      "Test Set has Accuracy 83.144 and F1-Measure 83.1247666621 .\n"
     ]
    }
   ],
   "source": [
    "\"\"\" Naive Bayes for Training Set \"\"\"\n",
    "mnb = BernoulliNB(alpha = 1.0)\n",
    "mnb.fit(x_NB_train,y_NB_train)\n",
    "result_train= mnb.predict(x_NB_train)\n",
    "\n",
    "accuracy_train = accuracy_score(result_train,y_NB_train)*100\n",
    "F1_measure_train = f1_score(train_IMDB_label ,result_train ,average='macro')*100\n",
    "print(\"Train Set has Accuracy\",accuracy_train ,\"and F1-Measure\",F1_measure_train,\".\")\n",
    "\n",
    "\"\"\" Naive Bayes for Validation Set \"\"\"\n",
    "result_valid= mnb.predict(x_NB_valid)\n",
    "\n",
    "accuracy_valid = accuracy_score(result_valid,y_NB_valid)*100\n",
    "F1_measure_valid = f1_score(valid_IMDB_label, result_valid, average='macro')*100\n",
    "print(\"Validation Set has Accuracy\",accuracy_valid ,\"and F1-Measure\",F1_measure_valid,\".\")\n",
    "\n",
    "\n",
    "\"\"\" Naive Bayes for Test Set \"\"\"\n",
    "result_test= mnb.predict(x_NB_test)\n",
    "\n",
    "accuracy_test = accuracy_score(result_test,y_NB_test)*100\n",
    "F1_measure_test = f1_score(test_IMDB_label, result_test, average='macro')*100\n",
    "print(\"Test Set has Accuracy\",accuracy_test ,\"and F1-Measure\",F1_measure_test,\".\")\n",
    "\n",
    "\n",
    "# y_NB_valid = valid_yelp_label\n",
    "# from sklearn.metrics import confusion_matrix\n",
    "# confusion_matrix(y_NB_valid, result)\n"
   ]
  },
  {
   "cell_type": "code",
   "execution_count": 60,
   "metadata": {},
   "outputs": [
    {
     "name": "stdout",
     "output_type": "stream",
     "text": [
      "Confusion matrix, without normalization\n",
      "[[10815  1685]\n",
      " [ 2529  9971]]\n",
      "Normalized confusion matrix\n",
      "[[ 0.87  0.13]\n",
      " [ 0.2   0.8 ]]\n"
     ]
    },
    {
     "data": {
      "image/png": "[encoded data removed]",
      "text/plain": [
       "<matplotlib.figure.Figure at 0x1d5bc037f60>"
      ]
     },
     "metadata": {},
     "output_type": "display_data"
    },
    {
     "data": {
      "image/png": "[encoded data removed]",
      "text/plain": [
       "<matplotlib.figure.Figure at 0x1d5bbfc4860>"
      ]
     },
     "metadata": {},
     "output_type": "display_data"
    }
   ],
   "source": [
    "class_names = ['0', '1']\n",
    "def plot_confusion_matrix(cm, classes,\n",
    "                          normalize=False,\n",
    "                          title='Confusion matrix',\n",
    "                          cmap=plt.cm.Purples):\n",
    "    \"\"\"\n",
    "    This function prints and plots the confusion matrix.\n",
    "    Normalization can be applied by setting `normalize=True`.\n",
    "    \"\"\"\n",
    "    if normalize:\n",
    "        cm = cm.astype('float') / cm.sum(axis=1)[:, np.newaxis]\n",
    "        print(\"Normalized confusion matrix\")\n",
    "    else:\n",
    "        print('Confusion matrix, without normalization')\n",
    "\n",
    "    print(cm)\n",
    "\n",
    "    plt.imshow(cm, interpolation='nearest', cmap=cmap)\n",
    "    plt.title(title)\n",
    "    plt.colorbar()\n",
    "    tick_marks = np.arange(len(classes))\n",
    "    plt.xticks(tick_marks, classes, rotation=45)\n",
    "    plt.yticks(tick_marks, classes)\n",
    "\n",
    "    fmt = '.2f' if normalize else 'd'\n",
    "    thresh = cm.max() / 2.\n",
    "    for i, j in itertools.product(range(cm.shape[0]), range(cm.shape[1])):\n",
    "        plt.text(j, i, format(cm[i, j], fmt),\n",
    "                 horizontalalignment=\"center\",\n",
    "                 color=\"white\" if cm[i, j] > thresh else \"black\")\n",
    "\n",
    "    plt.tight_layout()\n",
    "    plt.ylabel('True label')\n",
    "    plt.xlabel('Predicted label')\n",
    "# Compute confusion matrix\n",
    "cnf_matrix = confusion_matrix(test_IMDB_label, result_test)\n",
    "np.set_printoptions(precision=2)\n",
    "\n",
    "# Plot non-normalized confusion matrix\n",
    "plt.figure()\n",
    "plot_confusion_matrix(cnf_matrix, classes=class_names,\n",
    "                      title='Confusion matrix, without normalization')\n",
    "\n",
    "# Plot normalized confusion matrix\n",
    "plt.figure()\n",
    "plot_confusion_matrix(cnf_matrix, classes=class_names, normalize=True,\n",
    "                      title='Normalized confusion matrix')\n",
    "\n",
    "plt.show()"
   ]
  },
  {
   "cell_type": "markdown",
   "metadata": {},
   "source": [
    "# Support Vector Machine Hyperparameter Tuning\n"
   ]
  },
  {
   "cell_type": "code",
   "execution_count": 22,
   "metadata": {},
   "outputs": [
    {
     "name": "stdout",
     "output_type": "stream",
     "text": [
      "Validation F1-Measure: 78.9375628415 \t\tC: 1e-05\n",
      "Validation F1-Measure: 79.4774256483 \t\tC: 1.38949549437e-05\n",
      "Validation F1-Measure: 80.199992872 \t\tC: 1.93069772888e-05\n",
      "Validation F1-Measure: 80.5894951328 \t\tC: 2.68269579528e-05\n",
      "Validation F1-Measure: 81.228085077 \t\tC: 3.72759372031e-05\n",
      "Validation F1-Measure: 81.8672566973 \t\tC: 5.17947467923e-05\n",
      "Validation F1-Measure: 82.4357255582 \t\tC: 7.19685673001e-05\n",
      "Validation F1-Measure: 83.1951433964 \t\tC: 0.0001\n",
      "Validation F1-Measure: 83.9445050068 \t\tC: 0.000138949549437\n",
      "Validation F1-Measure: 84.6842950531 \t\tC: 0.000193069772888\n",
      "Validation F1-Measure: 85.1251268428 \t\tC: 0.000268269579528\n",
      "Validation F1-Measure: 85.6663763166 \t\tC: 0.000372759372031\n",
      "Validation F1-Measure: 86.1067477286 \t\tC: 0.000517947467923\n",
      "Validation F1-Measure: 86.487236775 \t\tC: 0.000719685673001\n",
      "Validation F1-Measure: 86.7678657891 \t\tC: 0.001\n",
      "Validation F1-Measure: 87.0783206986 \t\tC: 0.00138949549437\n",
      "Validation F1-Measure: 87.1785045008 \t\tC: 0.00193069772888\n",
      "Validation F1-Measure: 87.3489979141 \t\tC: 0.00268269579528\n",
      "Validation F1-Measure: 87.5589007045 \t\tC: 0.00372759372031\n",
      "Validation F1-Measure: 87.6391688577 \t\tC: 0.00517947467923\n",
      "Validation F1-Measure: 87.5694419923 \t\tC: 0.00719685673001\n",
      "Validation F1-Measure: 87.4496474606 \t\tC: 0.01\n",
      "Validation F1-Measure: 87.3098069822 \t\tC: 0.0138949549437\n",
      "Validation F1-Measure: 87.0698033317 \t\tC: 0.0193069772888\n",
      "Validation F1-Measure: 86.8298734351 \t\tC: 0.0268269579528\n",
      "Validation F1-Measure: 86.6599466398 \t\tC: 0.0372759372031\n",
      "Validation F1-Measure: 86.3499769315 \t\tC: 0.0517947467923\n",
      "Validation F1-Measure: 85.9599994384 \t\tC: 0.0719685673001\n",
      "Validation F1-Measure: 85.6599908224 \t\tC: 0.1\n",
      "Validation F1-Measure: 85.4399994176 \t\tC: 0.138949549437\n",
      "Validation F1-Measure: 85.2699986743 \t\tC: 0.193069772888\n",
      "Validation F1-Measure: 84.8899817169 \t\tC: 0.268269579528\n",
      "Validation F1-Measure: 84.7899657774 \t\tC: 0.372759372031\n",
      "Validation F1-Measure: 84.6599607295 \t\tC: 0.517947467923\n",
      "Validation F1-Measure: 84.4599695415 \t\tC: 0.719685673001\n",
      "Validation F1-Measure: 84.2999692279 \t\tC: 1.0\n",
      "Validation F1-Measure: 84.2099013119 \t\tC: 1.38949549437\n",
      "Validation F1-Measure: 84.0999084155 \t\tC: 1.93069772888\n",
      "Validation F1-Measure: 84.1499301012 \t\tC: 2.68269579528\n",
      "Validation F1-Measure: 83.9798148067 \t\tC: 3.72759372031\n",
      "Validation F1-Measure: 83.909824778 \t\tC: 5.17947467923\n",
      "Validation F1-Measure: 83.9698651866 \t\tC: 7.19685673001\n",
      "Validation F1-Measure: 84.049846719 \t\tC: 10.0\n",
      "Validation F1-Measure: 84.1299008119 \t\tC: 13.8949549437\n",
      "Validation F1-Measure: 84.109866364 \t\tC: 19.3069772888\n",
      "Validation F1-Measure: 84.0099294838 \t\tC: 26.8269579528\n",
      "Validation F1-Measure: 84.0198561787 \t\tC: 37.2759372031\n",
      "Validation F1-Measure: 84.0997704007 \t\tC: 51.7947467923\n",
      "Validation F1-Measure: 84.1399365597 \t\tC: 71.9685673001\n",
      "Validation F1-Measure: 84.1099807731 \t\tC: 100.0\n",
      "\n",
      "Best Penalty Parameter is 0.00517947467923 and F1-Measure for validation set corresponding to best Alpha is 87.6391688577\n"
     ]
    },
    {
     "data": {
      "image/png": "[encoded data removed]",
      "text/plain": [
       "<matplotlib.figure.Figure at 0x1d5bbfdc780>"
      ]
     },
     "metadata": {},
     "output_type": "display_data"
    }
   ],
   "source": [
    "\"\"\" Support Vector Machine \"\"\"\n",
    "x_SVM_train = IMDB_TrainBinaryBag\n",
    "y_SVM_train = np.ravel(train_IMDB_label)\n",
    "x_SVM_valid = IMDB_ValidBinaryBag\n",
    "y_SVM_valid = np.ravel(valid_IMDB_label)\n",
    "x_SVM_test = IMDB_TestBinaryBag\n",
    "y_SVM_test = np.ravel(test_IMDB_label)\n",
    "\n",
    "\"\"\" Hyper Parameter Tuning on Validation Set \"\"\"\n",
    "F1_measure_SVM = []\n",
    "c_list_SVM = []\n",
    "for c in np.logspace(-5, 2, 50):\n",
    "    clf_SVM = LinearSVC(penalty='l2', loss='squared_hinge',C= c , dual= False)\n",
    "    clf_SVM.fit(x_SVM_train, y_SVM_train)\n",
    "    prediction_valid = clf_SVM.predict(x_SVM_valid)\n",
    "    F1_measure_valid = f1_score(valid_IMDB_label, prediction_valid, average='macro')*100\n",
    "    F1_measure_SVM = np.append(F1_measure_SVM, F1_measure_valid)\n",
    "    c_list_SVM = np.append(c_list_SVM, c)\n",
    "    print(\"Validation F1-Measure:\", F1_measure_valid,\"\\t\\t\" \"C:\", c)\n",
    "\n",
    "best_c = c_list_SVM [np.argmax(F1_measure_SVM)]\n",
    "print('\\n''Best Penalty Parameter is', best_c,'and F1-Measure for validation set corresponding to best Alpha is', max(F1_measure_SVM))\n",
    "\n",
    "\"\"\" Plotting \"\"\"\n",
    "\n",
    "a = F1_measure_SVM.squeeze()\n",
    "b = c_list_SVM.squeeze()\n",
    "plt.plot(b , a)\n",
    "plt.xlabel('C')\n",
    "plt.ylabel('F1-Measure')\n",
    "# plt.legend(loc ='upper right')\n",
    "plt.show()"
   ]
  },
  {
   "cell_type": "markdown",
   "metadata": {},
   "source": [
    "# Support Vector Machine Classifier"
   ]
  },
  {
   "cell_type": "code",
   "execution_count": 63,
   "metadata": {},
   "outputs": [
    {
     "name": "stdout",
     "output_type": "stream",
     "text": [
      "Train Set has Accuracy 94.6866666667 and F1-Measure 94.6864161253 .\n",
      "Train Set has Accuracy 87.64 and F1-Measure 87.6391688577 .\n",
      "Train Set has Accuracy 87.292 and F1-Measure 87.2914859457 .\n"
     ]
    }
   ],
   "source": [
    "\"\"\" SVM Classifier for Train Set \"\"\"\n",
    "clf_SVM = LinearSVC(penalty='l2', loss='squared_hinge', C=0.00517947467923)\n",
    "clf_SVM.fit(x_SVM_train, y_SVM_train)\n",
    "prediction_train = clf_SVM.predict(x_SVM_train)\n",
    "accuracy = accuracy_score(prediction_train,y_SVM_train)*100\n",
    "F1_measure_train = f1_score(train_IMDB_label, prediction_train, average='macro')*100\n",
    "print(\"Train Set has Accuracy\",accuracy,\"and F1-Measure\",F1_measure_train,\".\")\n",
    "\n",
    "\n",
    "\"\"\" SVM Classifier for Validation Set \"\"\"\n",
    "prediction_valid = clf_SVM.predict(x_SVM_valid)\n",
    "accuracy = accuracy_score(prediction_valid,y_SVM_valid)*100\n",
    "F1_measure_valid = f1_score(valid_IMDB_label, prediction_valid, average='macro')*100\n",
    "print(\"Train Set has Accuracy\",accuracy ,\"and F1-Measure\",F1_measure_valid,\".\")\n",
    "\n",
    "\n",
    "\"\"\" SVM Classifier for Test Set \"\"\"\n",
    "prediction_test = clf_SVM.predict(x_SVM_test)\n",
    "accuracy = accuracy_score(prediction_test,y_SVM_test)*100\n",
    "F1_measure_test = f1_score(test_IMDB_label, prediction_test, average='macro')*100\n",
    "print(\"Train Set has Accuracy\",accuracy ,\"and F1-Measure\",F1_measure_test,\".\")"
   ]
  },
  {
   "cell_type": "code",
   "execution_count": 64,
   "metadata": {},
   "outputs": [
    {
     "name": "stdout",
     "output_type": "stream",
     "text": [
      "Confusion matrix, without normalization\n",
      "[[10832  1668]\n",
      " [ 1509 10991]]\n",
      "Normalized confusion matrix\n",
      "[[ 0.87  0.13]\n",
      " [ 0.12  0.88]]\n"
     ]
    },
    {
     "data": {
      "image/png": "[encoded data removed]",
      "text/plain": [
       "<matplotlib.figure.Figure at 0x1d5bc0a3cf8>"
      ]
     },
     "metadata": {},
     "output_type": "display_data"
    },
    {
     "data": {
      "image/png": "[encoded data removed]",
      "text/plain": [
       "<matplotlib.figure.Figure at 0x1d5bbfe6128>"
      ]
     },
     "metadata": {},
     "output_type": "display_data"
    }
   ],
   "source": [
    "class_names = ['0', '1']\n",
    "def plot_confusion_matrix(cm, classes,\n",
    "                          normalize=False,\n",
    "                          title='Confusion matrix',\n",
    "                          cmap=plt.cm.Purples):\n",
    "    \"\"\"\n",
    "    This function prints and plots the confusion matrix.\n",
    "    Normalization can be applied by setting `normalize=True`.\n",
    "    \"\"\"\n",
    "    if normalize:\n",
    "        cm = cm.astype('float') / cm.sum(axis=1)[:, np.newaxis]\n",
    "        print(\"Normalized confusion matrix\")\n",
    "    else:\n",
    "        print('Confusion matrix, without normalization')\n",
    "\n",
    "    print(cm)\n",
    "\n",
    "    plt.imshow(cm, interpolation='nearest', cmap=cmap)\n",
    "    plt.title(title)\n",
    "    plt.colorbar()\n",
    "    tick_marks = np.arange(len(classes))\n",
    "    plt.xticks(tick_marks, classes, rotation=45)\n",
    "    plt.yticks(tick_marks, classes)\n",
    "\n",
    "    fmt = '.2f' if normalize else 'd'\n",
    "    thresh = cm.max() / 2.\n",
    "    for i, j in itertools.product(range(cm.shape[0]), range(cm.shape[1])):\n",
    "        plt.text(j, i, format(cm[i, j], fmt),\n",
    "                 horizontalalignment=\"center\",\n",
    "                 color=\"white\" if cm[i, j] > thresh else \"black\")\n",
    "\n",
    "    plt.tight_layout()\n",
    "    plt.ylabel('True label')\n",
    "    plt.xlabel('Predicted label')\n",
    "# Compute confusion matrix\n",
    "cnf_matrix = confusion_matrix(test_IMDB_label, prediction_test)\n",
    "np.set_printoptions(precision=2)\n",
    "\n",
    "# Plot non-normalized confusion matrix\n",
    "plt.figure()\n",
    "plot_confusion_matrix(cnf_matrix, classes=class_names,\n",
    "                      title='Confusion matrix, without normalization')\n",
    "\n",
    "# Plot normalized confusion matrix\n",
    "plt.figure()\n",
    "plot_confusion_matrix(cnf_matrix, classes=class_names, normalize=True,\n",
    "                      title='Normalized confusion matrix')\n",
    "\n",
    "plt.show()"
   ]
  },
  {
   "cell_type": "markdown",
   "metadata": {},
   "source": [
    "# Decision Tree Hyperparameter Tuning"
   ]
  },
  {
   "cell_type": "code",
   "execution_count": 34,
   "metadata": {},
   "outputs": [
    {
     "name": "stdout",
     "output_type": "stream",
     "text": [
      "Validation F1-Measure: 58.0019481914 \t\tDepth: 1\n",
      "Validation F1-Measure: 62.6702842121 \t\tDepth: 2\n",
      "Validation F1-Measure: 65.2812310283 \t\tDepth: 3\n",
      "Validation F1-Measure: 65.370456566 \t\tDepth: 4\n",
      "Validation F1-Measure: 67.0360709811 \t\tDepth: 5\n",
      "Validation F1-Measure: 69.3139947651 \t\tDepth: 6\n",
      "Validation F1-Measure: 70.6398654997 \t\tDepth: 7\n",
      "Validation F1-Measure: 70.7423392678 \t\tDepth: 8\n",
      "Validation F1-Measure: 71.4227792324 \t\tDepth: 9\n",
      "Validation F1-Measure: 71.2756181068 \t\tDepth: 10\n",
      "Validation F1-Measure: 70.9455899694 \t\tDepth: 11\n",
      "Validation F1-Measure: 71.2115888312 \t\tDepth: 12\n",
      "Validation F1-Measure: 71.5054645049 \t\tDepth: 13\n",
      "Validation F1-Measure: 71.7784022481 \t\tDepth: 14\n",
      "Validation F1-Measure: 71.6931268032 \t\tDepth: 15\n",
      "Validation F1-Measure: 72.0060410803 \t\tDepth: 16\n",
      "Validation F1-Measure: 71.3385053437 \t\tDepth: 17\n",
      "Validation F1-Measure: 71.6942567867 \t\tDepth: 18\n",
      "Validation F1-Measure: 71.6350688144 \t\tDepth: 19\n",
      "Validation F1-Measure: 71.4349491483 \t\tDepth: 20\n",
      "Validation F1-Measure: 71.2998553857 \t\tDepth: 21\n",
      "Validation F1-Measure: 70.9672238798 \t\tDepth: 22\n",
      "Validation F1-Measure: 71.0295880203 \t\tDepth: 23\n",
      "Validation F1-Measure: 71.2891116779 \t\tDepth: 24\n",
      "Validation F1-Measure: 70.8610869135 \t\tDepth: 25\n",
      "Validation F1-Measure: 70.4941481528 \t\tDepth: 26\n",
      "Validation F1-Measure: 70.5078830847 \t\tDepth: 27\n",
      "Validation F1-Measure: 70.8330450669 \t\tDepth: 28\n",
      "Validation F1-Measure: 70.7688480461 \t\tDepth: 29\n",
      "Validation F1-Measure: 71.0672406531 \t\tDepth: 30\n",
      "Validation F1-Measure: 70.9355465379 \t\tDepth: 31\n",
      "Validation F1-Measure: 70.9575548367 \t\tDepth: 32\n",
      "Validation F1-Measure: 70.3802839322 \t\tDepth: 33\n",
      "Validation F1-Measure: 70.9289639076 \t\tDepth: 34\n",
      "Validation F1-Measure: 70.2066096586 \t\tDepth: 35\n",
      "Validation F1-Measure: 70.9667039117 \t\tDepth: 36\n",
      "Validation F1-Measure: 70.3030482406 \t\tDepth: 37\n",
      "Validation F1-Measure: 70.0783877215 \t\tDepth: 38\n",
      "Validation F1-Measure: 69.975068902 \t\tDepth: 39\n",
      "Validation F1-Measure: 70.2503506541 \t\tDepth: 40\n",
      "Validation F1-Measure: 70.2276099221 \t\tDepth: 41\n",
      "Validation F1-Measure: 70.1176857971 \t\tDepth: 42\n",
      "Validation F1-Measure: 69.9963695607 \t\tDepth: 43\n",
      "Validation F1-Measure: 69.068833849 \t\tDepth: 44\n",
      "Validation F1-Measure: 69.8740953227 \t\tDepth: 45\n",
      "Validation F1-Measure: 69.8809856802 \t\tDepth: 46\n",
      "Validation F1-Measure: 70.1105298203 \t\tDepth: 47\n",
      "Validation F1-Measure: 70.0029779971 \t\tDepth: 48\n",
      "Validation F1-Measure: 69.9662995478 \t\tDepth: 49\n",
      "Validation F1-Measure: 70.0563768216 \t\tDepth: 50\n",
      "Validation F1-Measure: 69.7243175572 \t\tDepth: 51\n",
      "Validation F1-Measure: 70.0509326204 \t\tDepth: 52\n",
      "Validation F1-Measure: 70.0963816622 \t\tDepth: 53\n",
      "Validation F1-Measure: 69.5659751002 \t\tDepth: 54\n",
      "Validation F1-Measure: 70.1155519988 \t\tDepth: 55\n",
      "Validation F1-Measure: 69.7629218024 \t\tDepth: 56\n",
      "Validation F1-Measure: 69.676196182 \t\tDepth: 57\n",
      "Validation F1-Measure: 69.718061956 \t\tDepth: 58\n",
      "Validation F1-Measure: 69.1886982225 \t\tDepth: 59\n",
      "Validation F1-Measure: 69.3949856745 \t\tDepth: 60\n",
      "Validation F1-Measure: 69.3660883558 \t\tDepth: 61\n",
      "Validation F1-Measure: 69.5920197297 \t\tDepth: 62\n",
      "Validation F1-Measure: 69.7956505737 \t\tDepth: 63\n",
      "Validation F1-Measure: 69.5775357804 \t\tDepth: 64\n",
      "Validation F1-Measure: 69.3917676098 \t\tDepth: 65\n",
      "Validation F1-Measure: 69.8793060192 \t\tDepth: 66\n",
      "Validation F1-Measure: 69.2360019108 \t\tDepth: 67\n",
      "Validation F1-Measure: 69.3685416363 \t\tDepth: 68\n",
      "Validation F1-Measure: 69.4749987838 \t\tDepth: 69\n",
      "Validation F1-Measure: 69.8064126999 \t\tDepth: 70\n",
      "Validation F1-Measure: 69.3780401946 \t\tDepth: 71\n",
      "Validation F1-Measure: 69.3068689937 \t\tDepth: 72\n",
      "Validation F1-Measure: 69.2673419324 \t\tDepth: 73\n",
      "Validation F1-Measure: 69.2268608321 \t\tDepth: 74\n",
      "Validation F1-Measure: 69.7057100256 \t\tDepth: 75\n",
      "Validation F1-Measure: 69.7669159231 \t\tDepth: 76\n",
      "Validation F1-Measure: 69.3494847648 \t\tDepth: 77\n",
      "Validation F1-Measure: 69.4765703874 \t\tDepth: 78\n",
      "Validation F1-Measure: 69.1181211465 \t\tDepth: 79\n",
      "Validation F1-Measure: 69.9560954942 \t\tDepth: 80\n",
      "Validation F1-Measure: 69.4353003718 \t\tDepth: 81\n",
      "Validation F1-Measure: 69.676330836 \t\tDepth: 82\n",
      "Validation F1-Measure: 69.6178562359 \t\tDepth: 83\n",
      "Validation F1-Measure: 69.067765146 \t\tDepth: 84\n",
      "Validation F1-Measure: 69.7251169641 \t\tDepth: 85\n",
      "Validation F1-Measure: 69.2082679651 \t\tDepth: 86\n",
      "Validation F1-Measure: 69.2181272309 \t\tDepth: 87\n",
      "Validation F1-Measure: 69.3693797299 \t\tDepth: 88\n",
      "Validation F1-Measure: 69.4877954932 \t\tDepth: 89\n",
      "Validation F1-Measure: 69.5153126745 \t\tDepth: 90\n",
      "Validation F1-Measure: 69.3552880691 \t\tDepth: 91\n",
      "Validation F1-Measure: 69.5872552498 \t\tDepth: 92\n",
      "Validation F1-Measure: 69.1061935741 \t\tDepth: 93\n",
      "Validation F1-Measure: 69.7973312922 \t\tDepth: 94\n",
      "Validation F1-Measure: 69.4861036806 \t\tDepth: 95\n",
      "Validation F1-Measure: 69.3362896911 \t\tDepth: 96\n",
      "Validation F1-Measure: 69.6667819489 \t\tDepth: 97\n",
      "Validation F1-Measure: 69.3364234004 \t\tDepth: 98\n",
      "Validation F1-Measure: 69.4675815271 \t\tDepth: 99\n",
      "\n",
      "Best Alpha is 16.0 and F1-Measure for validation set corresponding to best Alpha is 72.0060410803\n"
     ]
    },
    {
     "data": {
      "image/png": "[encoded data removed]",
      "text/plain": [
       "<matplotlib.figure.Figure at 0x1d5be1e84a8>"
      ]
     },
     "metadata": {},
     "output_type": "display_data"
    }
   ],
   "source": [
    "\"\"\" Decision Tree \"\"\"\n",
    "x_DT_train = IMDB_TrainBinaryBag\n",
    "y_DT_train = np.ravel(train_IMDB_label)\n",
    "x_DT_valid = IMDB_ValidBinaryBag\n",
    "y_DT_valid = np.ravel(valid_IMDB_label)\n",
    "x_DT_test = IMDB_TestBinaryBag\n",
    "y_DT_test = np.ravel(test_IMDB_label)\n",
    "\n",
    "\"\"\" Hyper Parameter Tuning on Validation Set \"\"\"\n",
    "F1_measure_DT = []\n",
    "depth_list_DT= []\n",
    "for depth in range(1,100,1):\n",
    "    clf_decisionTree = DecisionTreeClassifier(criterion= \"gini\", random_state=1, max_depth=depth)\n",
    "    clf_decisionTree.fit(x_DT_train, y_DT_train)\n",
    "    prediction_DT_valid = clf_decisionTree.predict(x_DT_valid)\n",
    "    F1_measure_valid = f1_score(valid_IMDB_label, prediction_DT_valid, average='macro')*100\n",
    "    F1_measure_DT = np.append(F1_measure_DT, F1_measure_valid)\n",
    "    depth_list_DT = np.append(depth_list_DT, depth)\n",
    "    print(\"Validation F1-Measure:\", F1_measure_valid, \"\\t\\t\"\"Depth:\", depth)\n",
    "\n",
    "best_depth = depth_list_DT [np.argmax(F1_measure_DT)]\n",
    "print('\\n''Best Alpha is', best_depth,'and F1-Measure for validation set corresponding to best Alpha is', max(F1_measure_DT))\n",
    "\n",
    "\n",
    "\"\"\" Plotting \"\"\"\n",
    "\n",
    "a = F1_measure_DT.squeeze()\n",
    "b = depth_list_DT.squeeze()\n",
    "plt.plot(b , a)\n",
    "plt.ylabel('F1_Measure')\n",
    "plt.xlabel(\"Max-Depth\")\n",
    "# plt.legend(loc ='upper right')\n",
    "plt.show()"
   ]
  },
  {
   "cell_type": "code",
   "execution_count": 66,
   "metadata": {},
   "outputs": [
    {
     "name": "stdout",
     "output_type": "stream",
     "text": [
      "Validation F1-Measure: 72.0060410803 \t\tMin_Sample_Split: 2\n",
      "Validation F1-Measure: 72.0879690966 \t\tMin_Sample_Split: 7\n",
      "Validation F1-Measure: 72.1297658952 \t\tMin_Sample_Split: 12\n",
      "Validation F1-Measure: 71.8570870597 \t\tMin_Sample_Split: 17\n",
      "Validation F1-Measure: 71.8323695192 \t\tMin_Sample_Split: 22\n",
      "Validation F1-Measure: 72.003601221 \t\tMin_Sample_Split: 27\n",
      "Validation F1-Measure: 71.9364146509 \t\tMin_Sample_Split: 32\n",
      "Validation F1-Measure: 71.7516208435 \t\tMin_Sample_Split: 37\n",
      "Validation F1-Measure: 71.6454852561 \t\tMin_Sample_Split: 42\n",
      "Validation F1-Measure: 71.7337846947 \t\tMin_Sample_Split: 47\n",
      "Validation F1-Measure: 71.8738013237 \t\tMin_Sample_Split: 52\n",
      "Validation F1-Measure: 71.8789334167 \t\tMin_Sample_Split: 57\n",
      "Validation F1-Measure: 71.8827657884 \t\tMin_Sample_Split: 62\n",
      "Validation F1-Measure: 71.945091884 \t\tMin_Sample_Split: 67\n",
      "Validation F1-Measure: 71.8290079733 \t\tMin_Sample_Split: 72\n",
      "Validation F1-Measure: 72.0796046488 \t\tMin_Sample_Split: 77\n",
      "Validation F1-Measure: 71.9021997127 \t\tMin_Sample_Split: 82\n",
      "Validation F1-Measure: 72.0645709438 \t\tMin_Sample_Split: 87\n",
      "Validation F1-Measure: 72.0426385574 \t\tMin_Sample_Split: 92\n",
      "Validation F1-Measure: 72.1228893258 \t\tMin_Sample_Split: 97\n",
      "Validation F1-Measure: 72.0064781224 \t\tMin_Sample_Split: 102\n",
      "Validation F1-Measure: 71.947034236 \t\tMin_Sample_Split: 107\n",
      "Validation F1-Measure: 71.9693616702 \t\tMin_Sample_Split: 112\n",
      "Validation F1-Measure: 71.8461964933 \t\tMin_Sample_Split: 117\n",
      "Validation F1-Measure: 72.1262326466 \t\tMin_Sample_Split: 122\n",
      "Validation F1-Measure: 72.1624393715 \t\tMin_Sample_Split: 127\n",
      "Validation F1-Measure: 71.9867855916 \t\tMin_Sample_Split: 132\n",
      "Validation F1-Measure: 71.8267559552 \t\tMin_Sample_Split: 137\n",
      "Validation F1-Measure: 72.3320485348 \t\tMin_Sample_Split: 142\n",
      "Validation F1-Measure: 72.0331880331 \t\tMin_Sample_Split: 147\n",
      "Validation F1-Measure: 72.1708142775 \t\tMin_Sample_Split: 152\n",
      "Validation F1-Measure: 71.9383032887 \t\tMin_Sample_Split: 157\n",
      "Validation F1-Measure: 71.9383032887 \t\tMin_Sample_Split: 162\n",
      "Validation F1-Measure: 71.9546770322 \t\tMin_Sample_Split: 167\n",
      "Validation F1-Measure: 71.8088498714 \t\tMin_Sample_Split: 172\n",
      "Validation F1-Measure: 71.8580123109 \t\tMin_Sample_Split: 177\n",
      "Validation F1-Measure: 72.0185942664 \t\tMin_Sample_Split: 182\n",
      "Validation F1-Measure: 72.0048027272 \t\tMin_Sample_Split: 187\n",
      "Validation F1-Measure: 71.9459528695 \t\tMin_Sample_Split: 192\n",
      "Validation F1-Measure: 71.8642746663 \t\tMin_Sample_Split: 197\n",
      "\n",
      "Best Min_Sample_Split is 142.0 and F1-Measure for validation set corresponding to best split is 72.3320485348\n"
     ]
    },
    {
     "data": {
      "image/png": "[encoded data removed]",
      "text/plain": [
       "<matplotlib.figure.Figure at 0x1d5bf24bd68>"
      ]
     },
     "metadata": {},
     "output_type": "display_data"
    }
   ],
   "source": [
    "\"\"\" Decision Tree \"\"\"\n",
    "\"\"\" Tuning Min-Sample-Split \"\"\"\n",
    "\"\"\" Hyper Parameter Tuning on Validation Set \"\"\"\n",
    "F1_measure_DT = []\n",
    "split_list_DT= []\n",
    "for split in range(2,200,5):\n",
    "    clf_decisionTree = DecisionTreeClassifier(criterion= \"gini\", random_state=1, min_samples_split = split, min_samples_leaf=1, max_depth = 16.0)\n",
    "    clf_decisionTree.fit(x_DT_train, y_DT_train)\n",
    "    prediction_DT_valid = clf_decisionTree.predict(x_DT_valid)\n",
    "    F1_measure_valid = f1_score(valid_IMDB_label, prediction_DT_valid, average='macro')*100\n",
    "    F1_measure_DT = np.append(F1_measure_DT, F1_measure_valid)\n",
    "    split_list_DT= np.append(split_list_DT, split)\n",
    "    print(\"Validation F1-Measure:\", F1_measure_valid, \"\\t\\t\"\"Min_Sample_Split:\", split)\n",
    "\n",
    "best_split = split_list_DT [np.argmax(F1_measure_DT)]\n",
    "print('\\n''Best Min_Sample_Split is', best_split,'and F1-Measure for validation set corresponding to best split is', max(F1_measure_DT))\n",
    "\n",
    "\"\"\" Plotting \"\"\"\n",
    "\n",
    "a = F1_measure_DT.squeeze()\n",
    "b = split_list_DT.squeeze()\n",
    "plt.plot(b , a)\n",
    "plt.ylabel('F1_Measure')\n",
    "plt.xlabel(\"Split\")\n",
    "# plt.legend(loc ='upper right')\n",
    "plt.show()"
   ]
  },
  {
   "cell_type": "code",
   "execution_count": 70,
   "metadata": {},
   "outputs": [
    {
     "name": "stdout",
     "output_type": "stream",
     "text": [
      "Validation F1-Measure: 71.8655316693 \t\tMin_Sample_Leaf: 1\n",
      "Validation F1-Measure: 72.4933542712 \t\tMin_Sample_Leaf: 6\n",
      "Validation F1-Measure: 72.1763680934 \t\tMin_Sample_Leaf: 11\n",
      "Validation F1-Measure: 72.2305315322 \t\tMin_Sample_Leaf: 16\n",
      "Validation F1-Measure: 71.8546115076 \t\tMin_Sample_Leaf: 21\n",
      "Validation F1-Measure: 71.8845595255 \t\tMin_Sample_Leaf: 26\n",
      "Validation F1-Measure: 72.1800744667 \t\tMin_Sample_Leaf: 31\n",
      "Validation F1-Measure: 72.2191518921 \t\tMin_Sample_Leaf: 36\n",
      "Validation F1-Measure: 72.3562381355 \t\tMin_Sample_Leaf: 41\n",
      "Validation F1-Measure: 72.1641517673 \t\tMin_Sample_Leaf: 46\n",
      "Validation F1-Measure: 72.2345220762 \t\tMin_Sample_Leaf: 51\n",
      "Validation F1-Measure: 71.1897561584 \t\tMin_Sample_Leaf: 56\n",
      "Validation F1-Measure: 71.5927120923 \t\tMin_Sample_Leaf: 61\n",
      "Validation F1-Measure: 71.6631267619 \t\tMin_Sample_Leaf: 66\n",
      "Validation F1-Measure: 71.0197396057 \t\tMin_Sample_Leaf: 71\n",
      "Validation F1-Measure: 71.0968724861 \t\tMin_Sample_Leaf: 76\n",
      "Validation F1-Measure: 71.0968724861 \t\tMin_Sample_Leaf: 81\n",
      "Validation F1-Measure: 71.3134392652 \t\tMin_Sample_Leaf: 86\n",
      "Validation F1-Measure: 71.3134392652 \t\tMin_Sample_Leaf: 91\n",
      "Validation F1-Measure: 71.3916881056 \t\tMin_Sample_Leaf: 96\n",
      "\n",
      "Best Min_Sample_Leaf is 6.0 and F1-Measure for validation set corresponding to best leaf is 72.4933542712\n"
     ]
    },
    {
     "data": {
      "image/png": "[encoded data removed]",
      "text/plain": [
       "<matplotlib.figure.Figure at 0x1d5bf25add8>"
      ]
     },
     "metadata": {},
     "output_type": "display_data"
    }
   ],
   "source": [
    "\"\"\" Decision Tree \"\"\"\n",
    "\"\"\" Tuning Min-Sample-Leaf \"\"\"\n",
    "\"\"\" Hyper Parameter Tuning on Validation Set \"\"\"\n",
    "F1_measure_DT = []\n",
    "leaf_list_DT= []\n",
    "for leaf in range(1,100,5):\n",
    "    clf_decisionTree = DecisionTreeClassifier(criterion= \"gini\", random_state=1, min_samples_split = 142 , min_samples_leaf= leaf, max_depth=18.0)\n",
    "    clf_decisionTree.fit(x_DT_train, y_DT_train)\n",
    "    prediction_DT_valid = clf_decisionTree.predict(x_DT_valid)\n",
    "    F1_measure_valid = f1_score(valid_IMDB_label, prediction_DT_valid, average='macro')*100\n",
    "    F1_measure_DT = np.append(F1_measure_DT, F1_measure_valid)\n",
    "    leaf_list_DT = np.append(leaf_list_DT, leaf)\n",
    "    print(\"Validation F1-Measure:\", F1_measure_valid, \"\\t\\t\"\"Min_Sample_Leaf:\", leaf)\n",
    "\n",
    "best_leaf = leaf_list_DT [np.argmax(F1_measure_DT)]\n",
    "print('\\n''Best Min_Sample_Leaf is', best_leaf,'and F1-Measure for validation set corresponding to best leaf is', max(F1_measure_DT))\n",
    "\n",
    "\"\"\" Plotting \"\"\"\n",
    "\n",
    "a = F1_measure_DT.squeeze()\n",
    "b = leaf_list_DT.squeeze()\n",
    "plt.plot(b , a)\n",
    "plt.ylabel('F1_Measure')\n",
    "plt.xlabel(\"Leaf\")\n",
    "# plt.legend(loc ='upper right')\n",
    "plt.show()"
   ]
  },
  {
   "cell_type": "markdown",
   "metadata": {},
   "source": [
    "# Decision Tree Classifier"
   ]
  },
  {
   "cell_type": "code",
   "execution_count": 75,
   "metadata": {},
   "outputs": [
    {
     "name": "stdout",
     "output_type": "stream",
     "text": [
      "Decision Tree Classifier Accuracy for Train Set: 77.3933333333\n",
      "F1-Measure for Decision Tree Classifier on Train set: 77.323399807\n",
      "Decision Tree Classifier Accuracy for Validation Set: 72.66\n",
      "F1-Measure for Decision Tree Classifier on Validation set: 72.5670781097\n",
      "Decision Tree Classifier Accuracy for Validation Set: 73.296\n",
      "F1-Measure for Decision Tree Classifier on Validation set: 73.205364853\n"
     ]
    }
   ],
   "source": [
    "\"\"\" Decision Tree Classifier for Train Set \"\"\"\n",
    "clf_decisionTree = DecisionTreeClassifier(criterion= \"gini\", random_state=1, max_depth=16.0,  min_samples_split = 142, min_samples_leaf=6)\n",
    "clf_decisionTree.fit(x_DT_train, y_DT_train)\n",
    "prediction_DT_Train = clf_decisionTree.predict(x_DT_train)\n",
    "accuracy = accuracy_score(prediction_DT_Train,y_DT_train)*100\n",
    "print(\"Decision Tree Classifier Accuracy for Train Set:\",accuracy)\n",
    "F1_measure_train = f1_score(train_IMDB_label, prediction_DT_Train, average='macro')*100\n",
    "print(\"F1-Measure for Decision Tree Classifier on Train set:\", F1_measure_train)\n",
    "\n",
    "\n",
    "\"\"\" Decision Tree Classifier for Validation Set \"\"\"\n",
    "prediction_DT_Valid = clf_decisionTree.predict(x_DT_valid)\n",
    "accuracy = accuracy_score(prediction_DT_Valid ,y_DT_valid)*100\n",
    "print(\"Decision Tree Classifier Accuracy for Validation Set:\",accuracy)\n",
    "F1_measure_valid = f1_score(valid_IMDB_label, prediction_DT_Valid, average='macro')*100\n",
    "print(\"F1-Measure for Decision Tree Classifier on Validation set:\", F1_measure_valid)\n",
    "\n",
    "\"\"\" Decision Tree Classifier for Test Set \"\"\"\n",
    "prediction_DT_Test = clf_decisionTree.predict(x_DT_test)\n",
    "accuracy = accuracy_score(prediction_DT_Test ,y_DT_test)*100\n",
    "print(\"Decision Tree Classifier Accuracy for Validation Set:\",accuracy)\n",
    "F1_measure_test = f1_score(test_IMDB_label, prediction_DT_Test, average='macro')*100\n",
    "print(\"F1-Measure for Decision Tree Classifier on Validation set:\", F1_measure_test)\n"
   ]
  },
  {
   "cell_type": "code",
   "execution_count": 77,
   "metadata": {},
   "outputs": [
    {
     "name": "stdout",
     "output_type": "stream",
     "text": [
      "Confusion matrix, without normalization\n",
      "[[8435 4065]\n",
      " [2611 9889]]\n",
      "Normalized confusion matrix\n",
      "[[ 0.67  0.33]\n",
      " [ 0.21  0.79]]\n"
     ]
    },
    {
     "data": {
      "image/png": "[encoded data removed]",
      "text/plain": [
       "<matplotlib.figure.Figure at 0x1d5bbfc7898>"
      ]
     },
     "metadata": {},
     "output_type": "display_data"
    },
    {
     "data": {
      "image/png": "[encoded data removed]",
      "text/plain": [
       "<matplotlib.figure.Figure at 0x1d624e7c278>"
      ]
     },
     "metadata": {},
     "output_type": "display_data"
    }
   ],
   "source": [
    "class_names = ['0', '1']\n",
    "def plot_confusion_matrix(cm, classes,\n",
    "                          normalize=False,\n",
    "                          title='Confusion matrix',\n",
    "                          cmap=plt.cm.Purples):\n",
    "    \"\"\"\n",
    "    This function prints and plots the confusion matrix.\n",
    "    Normalization can be applied by setting `normalize=True`.\n",
    "    \"\"\"\n",
    "    if normalize:\n",
    "        cm = cm.astype('float') / cm.sum(axis=1)[:, np.newaxis]\n",
    "        print(\"Normalized confusion matrix\")\n",
    "    else:\n",
    "        print('Confusion matrix, without normalization')\n",
    "\n",
    "    print(cm)\n",
    "\n",
    "    plt.imshow(cm, interpolation='nearest', cmap=cmap)\n",
    "    plt.title(title)\n",
    "    plt.colorbar()\n",
    "    tick_marks = np.arange(len(classes))\n",
    "    plt.xticks(tick_marks, classes, rotation=45)\n",
    "    plt.yticks(tick_marks, classes)\n",
    "\n",
    "    fmt = '.2f' if normalize else 'd'\n",
    "    thresh = cm.max() / 2.\n",
    "    for i, j in itertools.product(range(cm.shape[0]), range(cm.shape[1])):\n",
    "        plt.text(j, i, format(cm[i, j], fmt),\n",
    "                 horizontalalignment=\"center\",\n",
    "                 color=\"white\" if cm[i, j] > thresh else \"black\")\n",
    "\n",
    "    plt.tight_layout()\n",
    "    plt.ylabel('True label')\n",
    "    plt.xlabel('Predicted label')\n",
    "# Compute confusion matrix\n",
    "cnf_matrix = confusion_matrix(test_IMDB_label, prediction_DT_Test)\n",
    "np.set_printoptions(precision=2)\n",
    "\n",
    "# Plot non-normalized confusion matrix\n",
    "plt.figure()\n",
    "plot_confusion_matrix(cnf_matrix, classes=class_names,\n",
    "                      title='Confusion matrix, without normalization')\n",
    "\n",
    "# Plot normalized confusion matrix\n",
    "plt.figure()\n",
    "plot_confusion_matrix(cnf_matrix, classes=class_names, normalize=True,\n",
    "                      title='Normalized confusion matrix')\n",
    "\n",
    "plt.show()"
   ]
  },
  {
   "cell_type": "markdown",
   "metadata": {
    "collapsed": true
   },
   "source": [
    "# Frequency Bag-of-word \n"
   ]
  },
  {
   "cell_type": "code",
   "execution_count": 26,
   "metadata": {
    "collapsed": true
   },
   "outputs": [],
   "source": [
    "IMDB_TrainFrequencyBag = np.zeros([15000,10000])\n",
    "\n",
    "for i in range(len(train_IMDB_par)):\n",
    "    for sentence in train_IMDB_par[i]:\n",
    "        word = sentence.split()\n",
    "        for j in range(len(IMDB_Feature)):\n",
    "            if IMDB_TrainBinaryBag [i][j] == 1:\n",
    "                IMDB_TrainFrequencyBag [i][j] = word.count(IMDB_Feature[j]) \n",
    "        row_sum = np.sum(IMDB_TrainFrequencyBag [i][:])   \n",
    "        for j in range(len(IMDB_TrainFrequencyBag[0])):\n",
    "            IMDB_TrainFrequencyBag [i][j] = IMDB_TrainFrequencyBag [i][j]/row_sum"
   ]
  },
  {
   "cell_type": "code",
   "execution_count": 27,
   "metadata": {
    "collapsed": true
   },
   "outputs": [],
   "source": [
    "IMDB_ValidFrequencyBag = np.zeros([10000,10000])\n",
    "\n",
    "for i in range(len(valid_IMDB_par)):\n",
    "    for sentence in valid_IMDB_par[i]:\n",
    "        word = sentence.split()\n",
    "        for j in range(len(IMDB_Feature)):\n",
    "            if IMDB_ValidBinaryBag [i][j] == 1:\n",
    "                IMDB_ValidFrequencyBag [i][j] = word.count(IMDB_Feature[j]) \n",
    "        row_sum = np.sum(IMDB_ValidFrequencyBag [i][:])   \n",
    "        for j in range(len(IMDB_ValidFrequencyBag[0])):\n",
    "            IMDB_ValidFrequencyBag [i][j] = IMDB_ValidFrequencyBag [i][j]/row_sum"
   ]
  },
  {
   "cell_type": "code",
   "execution_count": 28,
   "metadata": {
    "collapsed": true
   },
   "outputs": [],
   "source": [
    "IMDB_TestFrequencyBag = np.zeros([25000,10000])\n",
    "\n",
    "for i in range(len(test_IMDB_par)):\n",
    "    for sentence in test_IMDB_par[i]:\n",
    "        word = sentence.split()\n",
    "        for j in range(len(IMDB_Feature)):\n",
    "            if IMDB_TestBinaryBag [i][j] == 1:\n",
    "                IMDB_TestFrequencyBag [i][j] = word.count(IMDB_Feature[j]) \n",
    "        row_sum = np.sum(IMDB_TestFrequencyBag [i][:])   \n",
    "        for j in range(len(IMDB_TestFrequencyBag[0])):\n",
    "            IMDB_TestFrequencyBag [i][j] = IMDB_TestFrequencyBag [i][j]/row_sum"
   ]
  },
  {
   "cell_type": "markdown",
   "metadata": {},
   "source": [
    "# Naive Bayse Classifier"
   ]
  },
  {
   "cell_type": "code",
   "execution_count": 29,
   "metadata": {},
   "outputs": [
    {
     "name": "stdout",
     "output_type": "stream",
     "text": [
      "Train Set has Accuracy 86.1666666667 and F1-Measure 86.1194341858 .\n",
      "Validation Set has Accuracy 84.22 and F1-Measure 84.216448701 .\n",
      "Test Set has Accuracy 83.108 and F1-Measure 83.0910726487 .\n"
     ]
    }
   ],
   "source": [
    "\"\"\" Training Naive Bayse Classifier \"\"\"\n",
    "x_NB_train_F = IMDB_TrainFrequencyBag\n",
    "y_NB_train_F = np.ravel(train_IMDB_label)\n",
    "x_NB_valid_F = IMDB_ValidFrequencyBag\n",
    "y_NB_valid_F = np.ravel(valid_IMDB_label)\n",
    "x_NB_test_F = IMDB_TestFrequencyBag\n",
    "y_NB_test_F = np.ravel(test_IMDB_label)\n",
    "\n",
    "\"\"\" Naive Bayes for Training Set \"\"\"\n",
    "gnb = GaussianNB()\n",
    "gnb.fit(x_NB_train_F,y_NB_train_F)\n",
    "result_train_F= gnb.predict(x_NB_train_F)\n",
    "accuracy_train_F = accuracy_score(result_train_F,y_NB_train_F)*100\n",
    "F1_measure_train_F = f1_score(train_IMDB_label ,result_train_F ,average='macro')*100\n",
    "print(\"Train Set has Accuracy\",accuracy_train_F ,\"and F1-Measure\",F1_measure_train_F,\".\")\n",
    "\n",
    "\"\"\" Naive Bayes for Validation Set \"\"\"\n",
    "result_valid_F= mnb.predict(x_NB_valid_F)\n",
    "accuracy_valid_F = accuracy_score(result_valid_F,y_NB_valid_F)*100\n",
    "F1_measure_valid_F = f1_score(valid_IMDB_label, result_valid_F, average='macro')*100\n",
    "print(\"Validation Set has Accuracy\",accuracy_valid_F ,\"and F1-Measure\",F1_measure_valid_F,\".\")\n",
    "\n",
    "\n",
    "\n",
    "\"\"\" Naive Bayes for Test Set \"\"\"\n",
    "result_test_F= mnb.predict(x_NB_test_F)\n",
    "accuracy_test_F = accuracy_score(result_test_F,y_NB_test_F)*100\n",
    "F1_measure_test_F = f1_score(test_IMDB_label, result_test_F, average='macro')*100\n",
    "print(\"Test Set has Accuracy\",accuracy_test_F ,\"and F1-Measure\",F1_measure_test_F,\".\")"
   ]
  },
  {
   "cell_type": "code",
   "execution_count": 52,
   "metadata": {},
   "outputs": [
    {
     "name": "stdout",
     "output_type": "stream",
     "text": [
      "Confusion matrix, without normalization\n",
      "[[10784  1716]\n",
      " [ 2507  9993]]\n",
      "Normalized confusion matrix\n",
      "[[ 0.86  0.14]\n",
      " [ 0.2   0.8 ]]\n"
     ]
    },
    {
     "data": {
      "image/png": "[encoded data removed]",
      "text/plain": [
       "<matplotlib.figure.Figure at 0x1d5bc00ffd0>"
      ]
     },
     "metadata": {},
     "output_type": "display_data"
    },
    {
     "data": {
      "image/png": "[encoded data removed]",
      "text/plain": [
       "<matplotlib.figure.Figure at 0x1d5bc00ff60>"
      ]
     },
     "metadata": {},
     "output_type": "display_data"
    }
   ],
   "source": [
    "class_names = ['0', '1']\n",
    "def plot_confusion_matrix(cm, classes,\n",
    "                          normalize=False,\n",
    "                          title='Confusion matrix',\n",
    "                          cmap=plt.cm.Purples):\n",
    "    \"\"\"\n",
    "    This function prints and plots the confusion matrix.\n",
    "    Normalization can be applied by setting `normalize=True`.\n",
    "    \"\"\"\n",
    "    if normalize:\n",
    "        cm = cm.astype('float') / cm.sum(axis=1)[:, np.newaxis]\n",
    "        print(\"Normalized confusion matrix\")\n",
    "    else:\n",
    "        print('Confusion matrix, without normalization')\n",
    "\n",
    "    print(cm)\n",
    "\n",
    "    plt.imshow(cm, interpolation='nearest', cmap=cmap)\n",
    "    plt.title(title)\n",
    "    plt.colorbar()\n",
    "    tick_marks = np.arange(len(classes))\n",
    "    plt.xticks(tick_marks, classes, rotation=45)\n",
    "    plt.yticks(tick_marks, classes)\n",
    "\n",
    "    fmt = '.2f' if normalize else 'd'\n",
    "    thresh = cm.max() / 2.\n",
    "    for i, j in itertools.product(range(cm.shape[0]), range(cm.shape[1])):\n",
    "        plt.text(j, i, format(cm[i, j], fmt),\n",
    "                 horizontalalignment=\"center\",\n",
    "                 color=\"white\" if cm[i, j] > thresh else \"black\")\n",
    "\n",
    "    plt.tight_layout()\n",
    "    plt.ylabel('True label')\n",
    "    plt.xlabel('Predicted label')\n",
    "# Compute confusion matrix\n",
    "cnf_matrix = confusion_matrix(test_IMDB_label, result_test_F)\n",
    "np.set_printoptions(precision=2)\n",
    "\n",
    "# Plot non-normalized confusion matrix\n",
    "plt.figure()\n",
    "plot_confusion_matrix(cnf_matrix, classes=class_names,\n",
    "                      title='Confusion matrix, without normalization')\n",
    "\n",
    "# Plot normalized confusion matrix\n",
    "plt.figure()\n",
    "plot_confusion_matrix(cnf_matrix, classes=class_names, normalize=True,\n",
    "                      title='Normalized confusion matrix')\n",
    "\n",
    "plt.show()"
   ]
  },
  {
   "cell_type": "markdown",
   "metadata": {},
   "source": [
    "# Support Vector Machine Hyperparameter Tuning\n"
   ]
  },
  {
   "cell_type": "code",
   "execution_count": 30,
   "metadata": {},
   "outputs": [
    {
     "name": "stdout",
     "output_type": "stream",
     "text": [
      " Validation F1-Measure: 66.0181168753 \t\tC: 0.01\n",
      " Validation F1-Measure: 66.1379041207 \t\tC: 0.0126485521686\n",
      " Validation F1-Measure: 66.5182917815 \t\tC: 0.0159985871961\n",
      " Validation F1-Measure: 66.8282757858 \t\tC: 0.0202358964773\n",
      " Validation F1-Measure: 67.0987395436 \t\tC: 0.025595479227\n",
      " Validation F1-Measure: 67.5508415495 \t\tC: 0.0323745754282\n",
      " Validation F1-Measure: 67.9012611183 \t\tC: 0.0409491506238\n",
      " Validation F1-Measure: 68.3421966681 \t\tC: 0.0517947467923\n",
      " Validation F1-Measure: 68.9328222393 \t\tC: 0.065512855686\n",
      " Validation F1-Measure: 69.4224629429 \t\tC: 0.0828642772855\n",
      " Validation F1-Measure: 70.0528977452 \t\tC: 0.104811313415\n",
      " Validation F1-Measure: 70.642946968 \t\tC: 0.132571136559\n",
      " Validation F1-Measure: 71.3632964341 \t\tC: 0.167683293681\n",
      " Validation F1-Measure: 72.0728506498 \t\tC: 0.212095088792\n",
      " Validation F1-Measure: 73.1825208732 \t\tC: 0.268269579528\n",
      " Validation F1-Measure: 73.9818487734 \t\tC: 0.33932217719\n",
      " Validation F1-Measure: 75.0117228831 \t\tC: 0.429193426013\n",
      " Validation F1-Measure: 75.8196389571 \t\tC: 0.542867543932\n",
      " Validation F1-Measure: 76.9783452873 \t\tC: 0.686648845004\n",
      " Validation F1-Measure: 78.0985146421 \t\tC: 0.868511373751\n",
      " Validation F1-Measure: 79.2288201201 \t\tC: 1.09854114199\n",
      " Validation F1-Measure: 80.0597249757 \t\tC: 1.38949549437\n",
      " Validation F1-Measure: 81.0015416964 \t\tC: 1.75751062485\n",
      " Validation F1-Measure: 81.8737290353 \t\tC: 2.22299648253\n",
      " Validation F1-Measure: 82.4228986753 \t\tC: 2.81176869797\n",
      " Validation F1-Measure: 82.9917680157 \t\tC: 3.55648030622\n",
      " Validation F1-Measure: 83.8540479562 \t\tC: 4.49843266897\n",
      " Validation F1-Measure: 84.5050352583 \t\tC: 5.68986602902\n",
      " Validation F1-Measure: 84.8560256154 \t\tC: 7.19685673001\n",
      " Validation F1-Measure: 85.4263156269 \t\tC: 9.10298177992\n",
      " Validation F1-Measure: 85.8867820452 \t\tC: 11.5139539933\n",
      " Validation F1-Measure: 86.2768293987 \t\tC: 14.563484775\n",
      " Validation F1-Measure: 86.4975025781 \t\tC: 18.4206996933\n",
      " Validation F1-Measure: 86.8680132617 \t\tC: 23.2995181052\n",
      " Validation F1-Measure: 87.06822977 \t\tC: 29.4705170255\n",
      " Validation F1-Measure: 87.3485515357 \t\tC: 37.2759372031\n",
      " Validation F1-Measure: 87.5589007045 \t\tC: 47.1486636346\n",
      " Validation F1-Measure: 87.6591702026 \t\tC: 59.6362331659\n",
      " Validation F1-Measure: 87.6289755555 \t\tC: 75.4312006335\n",
      " Validation F1-Measure: 87.7487002596 \t\tC: 95.409547635\n",
      " Validation F1-Measure: 87.6395841956 \t\tC: 120.679264064\n",
      " Validation F1-Measure: 87.679526401 \t\tC: 152.641796718\n",
      " Validation F1-Measure: 87.6399030968 \t\tC: 193.069772888\n",
      " Validation F1-Measure: 87.599995536 \t\tC: 244.205309455\n",
      " Validation F1-Measure: 87.1826422214 \t\tC: 308.884359648\n",
      " Validation F1-Measure: 86.675478697 \t\tC: 390.693993705\n",
      " Validation F1-Measure: 87.517339196 \t\tC: 494.171336132\n",
      " Validation F1-Measure: 85.6246478541 \t\tC: 625.055192527\n",
      " Validation F1-Measure: 85.0870167538 \t\tC: 790.604321091\n",
      " Validation F1-Measure: 85.5626411664 \t\tC: 1000.0\n",
      "\n",
      "Best Penalty Parameter is 95.409547635 and F1-Measure for validation set corresponding to best penalty is 87.7487002596\n"
     ]
    },
    {
     "data": {
      "image/png": "[encoded data removed]",
      "text/plain": [
       "<matplotlib.figure.Figure at 0x1d5bf2556a0>"
      ]
     },
     "metadata": {},
     "output_type": "display_data"
    }
   ],
   "source": [
    "\"\"\" Support Vector Machine \"\"\"\n",
    "x_SVM_train_F = IMDB_TrainFrequencyBag\n",
    "y_SVM_train_F = np.ravel(train_IMDB_label)\n",
    "x_SVM_valid_F = IMDB_ValidFrequencyBag\n",
    "y_SVM_valid_F = np.ravel(valid_IMDB_label)\n",
    "x_SVM_test_F = IMDB_TestFrequencyBag\n",
    "y_SVM_test_F = np.ravel(test_IMDB_label)\n",
    "\n",
    "\"\"\" Hyper Parameter Tuning on Validation Set \"\"\"\n",
    "F1_measure_SVM_F = []\n",
    "c_list_SVM_F = []\n",
    "for c in np.logspace(-2, 3, 50):\n",
    "    clf_SVM_F = LinearSVC(penalty='l2', loss='squared_hinge',C= c )\n",
    "    clf_SVM_F.fit(x_SVM_train_F, y_SVM_train_F)\n",
    "    prediction_valid_F = clf_SVM_F.predict(x_SVM_valid_F)\n",
    "    F1_measure_valid_F = f1_score(valid_IMDB_label, prediction_valid_F, average='macro')*100\n",
    "    F1_measure_SVM_F = np.append(F1_measure_SVM_F, F1_measure_valid_F)\n",
    "    c_list_SVM_F = np.append(c_list_SVM_F, c)\n",
    "    print(\" Validation F1-Measure:\", F1_measure_valid_F,\"\\t\\t\" \"C:\", c)\n",
    "\n",
    "best_c = c_list_SVM_F [np.argmax(F1_measure_SVM_F)]\n",
    "print('\\n''Best Penalty Parameter is', best_c,'and F1-Measure for validation set corresponding to best penalty is', max(F1_measure_SVM_F))\n",
    "    \n",
    "\"\"\" Plotting \"\"\"\n",
    "\n",
    "a = F1_measure_SVM_F.squeeze()\n",
    "b = c_list_SVM_F.squeeze()\n",
    "plt.plot(b , a)\n",
    "plt.xlabel('C')\n",
    "plt.ylabel('F1-Measure')\n",
    "# plt.legend(loc ='lower right')\n",
    "plt.show()"
   ]
  },
  {
   "cell_type": "markdown",
   "metadata": {},
   "source": [
    "# Support Vector Machine Classifier"
   ]
  },
  {
   "cell_type": "code",
   "execution_count": 80,
   "metadata": {},
   "outputs": [
    {
     "name": "stdout",
     "output_type": "stream",
     "text": [
      "Train Set has Accuracy 94.46 and F1-Measure 94.4598894686 .\n",
      "Validation Set has Accuracy 87.77 and F1-Measure 87.7688961429 .\n",
      "Test Set has Accuracy 87.364 and F1-Measure 87.3639343127 .\n"
     ]
    }
   ],
   "source": [
    "\"\"\" SVM Classifier for Train Set \"\"\"\n",
    "clf_SVM_F = LinearSVC(penalty='l2', loss='squared_hinge', C=95.409547635)\n",
    "clf_SVM_F.fit(x_SVM_train_F, y_SVM_train_F)\n",
    "prediction_train_F = clf_SVM_F.predict(x_SVM_train_F)\n",
    "accuracy_F = accuracy_score(prediction_train_F,y_SVM_train_F)*100\n",
    "F1_measure_train_F = f1_score(train_IMDB_label, prediction_train_F, average='macro')*100\n",
    "print(\"Train Set has Accuracy\",accuracy_F ,\"and F1-Measure\",F1_measure_train_F,\".\")\n",
    "\n",
    "\"\"\" SVM Classifier for Validation Set \"\"\"\n",
    "prediction_valid_F = clf_SVM_F.predict(x_SVM_valid_F)\n",
    "accuracy_F = accuracy_score(prediction_valid_F,y_SVM_valid_F)*100\n",
    "F1_measure_valid_F = f1_score(valid_IMDB_label, prediction_valid_F, average='macro')*100\n",
    "print(\"Validation Set has Accuracy\",accuracy_F ,\"and F1-Measure\",F1_measure_valid_F,\".\")\n",
    "\n",
    "\"\"\" SVM Classifier for Test Set \"\"\"\n",
    "prediction_test_F = clf_SVM_F.predict(x_SVM_test_F)\n",
    "accuracy_F = accuracy_score(prediction_test_F,y_SVM_test_F)*100\n",
    "F1_measure_test_F = f1_score(test_IMDB_label, prediction_test_F, average='macro')*100\n",
    "print(\"Test Set has Accuracy\",accuracy_F ,\"and F1-Measure\",F1_measure_test_F,\".\")"
   ]
  },
  {
   "cell_type": "code",
   "execution_count": 79,
   "metadata": {},
   "outputs": [
    {
     "name": "stdout",
     "output_type": "stream",
     "text": [
      "Confusion matrix, without normalization\n",
      "[[ 9715  2785]\n",
      " [ 2445 10055]]\n",
      "Normalized confusion matrix\n",
      "[[ 0.78  0.22]\n",
      " [ 0.2   0.8 ]]\n"
     ]
    },
    {
     "data": {
      "image/png": "[encoded data removed]",
      "text/plain": [
       "<matplotlib.figure.Figure at 0x1d5bbff4eb8>"
      ]
     },
     "metadata": {},
     "output_type": "display_data"
    },
    {
     "data": {
      "image/png": "[encoded data removed]",
      "text/plain": [
       "<matplotlib.figure.Figure at 0x1d5bbff46d8>"
      ]
     },
     "metadata": {},
     "output_type": "display_data"
    }
   ],
   "source": [
    "class_names = ['0', '1']\n",
    "def plot_confusion_matrix(cm, classes,\n",
    "                          normalize=False,\n",
    "                          title='Confusion matrix',\n",
    "                          cmap=plt.cm.Purples):\n",
    "    \"\"\"\n",
    "    This function prints and plots the confusion matrix.\n",
    "    Normalization can be applied by setting `normalize=True`.\n",
    "    \"\"\"\n",
    "    if normalize:\n",
    "        cm = cm.astype('float') / cm.sum(axis=1)[:, np.newaxis]\n",
    "        print(\"Normalized confusion matrix\")\n",
    "    else:\n",
    "        print('Confusion matrix, without normalization')\n",
    "\n",
    "    print(cm)\n",
    "\n",
    "    plt.imshow(cm, interpolation='nearest', cmap=cmap)\n",
    "    plt.title(title)\n",
    "    plt.colorbar()\n",
    "    tick_marks = np.arange(len(classes))\n",
    "    plt.xticks(tick_marks, classes, rotation=45)\n",
    "    plt.yticks(tick_marks, classes)\n",
    "\n",
    "    fmt = '.2f' if normalize else 'd'\n",
    "    thresh = cm.max() / 2.\n",
    "    for i, j in itertools.product(range(cm.shape[0]), range(cm.shape[1])):\n",
    "        plt.text(j, i, format(cm[i, j], fmt),\n",
    "                 horizontalalignment=\"center\",\n",
    "                 color=\"white\" if cm[i, j] > thresh else \"black\")\n",
    "\n",
    "    plt.tight_layout()\n",
    "    plt.ylabel('True label')\n",
    "    plt.xlabel('Predicted label')\n",
    "# Compute confusion matrix\n",
    "cnf_matrix = confusion_matrix(test_IMDB_label, prediction_test_F)\n",
    "np.set_printoptions(precision=2)\n",
    "\n",
    "# Plot non-normalized confusion matrix\n",
    "plt.figure()\n",
    "plot_confusion_matrix(cnf_matrix, classes=class_names,\n",
    "                      title='Confusion matrix, without normalization')\n",
    "\n",
    "# Plot normalized confusion matrix\n",
    "plt.figure()\n",
    "plot_confusion_matrix(cnf_matrix, classes=class_names, normalize=True,\n",
    "                      title='Normalized confusion matrix')\n",
    "\n",
    "plt.show()"
   ]
  },
  {
   "cell_type": "markdown",
   "metadata": {},
   "source": [
    "# Decision Tree Hyperparameter Tuning"
   ]
  },
  {
   "cell_type": "code",
   "execution_count": 35,
   "metadata": {},
   "outputs": [
    {
     "name": "stdout",
     "output_type": "stream",
     "text": [
      "Validation F1-Measure: 57.6382750946 \t\tDepth: 1\n",
      "Validation F1-Measure: 62.6092492137 \t\tDepth: 2\n",
      "Validation F1-Measure: 65.1837415214 \t\tDepth: 3\n",
      "Validation F1-Measure: 66.9600920212 \t\tDepth: 4\n",
      "Validation F1-Measure: 66.9771719098 \t\tDepth: 5\n",
      "Validation F1-Measure: 69.5340691355 \t\tDepth: 6\n",
      "Validation F1-Measure: 70.4341319766 \t\tDepth: 7\n",
      "Validation F1-Measure: 71.3203647136 \t\tDepth: 8\n",
      "Validation F1-Measure: 70.8181866722 \t\tDepth: 9\n",
      "Validation F1-Measure: 69.9272954139 \t\tDepth: 10\n",
      "Validation F1-Measure: 71.6465822935 \t\tDepth: 11\n",
      "Validation F1-Measure: 71.3923471009 \t\tDepth: 12\n",
      "Validation F1-Measure: 70.7827754709 \t\tDepth: 13\n",
      "Validation F1-Measure: 71.6037888189 \t\tDepth: 14\n",
      "Validation F1-Measure: 70.7613170688 \t\tDepth: 15\n",
      "Validation F1-Measure: 71.2038392955 \t\tDepth: 16\n",
      "Validation F1-Measure: 70.7628676785 \t\tDepth: 17\n",
      "Validation F1-Measure: 70.998276774 \t\tDepth: 18\n",
      "Validation F1-Measure: 70.9134911388 \t\tDepth: 19\n",
      "Validation F1-Measure: 70.6613046288 \t\tDepth: 20\n",
      "Validation F1-Measure: 70.5678352864 \t\tDepth: 21\n",
      "Validation F1-Measure: 70.4709314132 \t\tDepth: 22\n",
      "Validation F1-Measure: 70.3035161239 \t\tDepth: 23\n",
      "Validation F1-Measure: 70.4431225618 \t\tDepth: 24\n",
      "Validation F1-Measure: 70.4471940813 \t\tDepth: 25\n",
      "Validation F1-Measure: 70.101442051 \t\tDepth: 26\n",
      "Validation F1-Measure: 70.4967096819 \t\tDepth: 27\n",
      "Validation F1-Measure: 70.0148591696 \t\tDepth: 28\n",
      "Validation F1-Measure: 69.9556978739 \t\tDepth: 29\n",
      "Validation F1-Measure: 70.0758750824 \t\tDepth: 30\n",
      "Validation F1-Measure: 70.03637332 \t\tDepth: 31\n",
      "Validation F1-Measure: 70.003540423 \t\tDepth: 32\n",
      "Validation F1-Measure: 70.5369350754 \t\tDepth: 33\n",
      "Validation F1-Measure: 70.1658216051 \t\tDepth: 34\n",
      "Validation F1-Measure: 70.349961683 \t\tDepth: 35\n",
      "Validation F1-Measure: 70.1944871723 \t\tDepth: 36\n",
      "Validation F1-Measure: 69.930472771 \t\tDepth: 37\n",
      "Validation F1-Measure: 70.1109507915 \t\tDepth: 38\n",
      "Validation F1-Measure: 70.0812514587 \t\tDepth: 39\n",
      "Validation F1-Measure: 70.0428027834 \t\tDepth: 40\n",
      "Validation F1-Measure: 69.8443400842 \t\tDepth: 41\n",
      "Validation F1-Measure: 69.9539415128 \t\tDepth: 42\n",
      "Validation F1-Measure: 69.6452570714 \t\tDepth: 43\n",
      "Validation F1-Measure: 69.7956505737 \t\tDepth: 44\n",
      "Validation F1-Measure: 69.4897067961 \t\tDepth: 45\n",
      "Validation F1-Measure: 69.6180555556 \t\tDepth: 46\n",
      "Validation F1-Measure: 69.7582532367 \t\tDepth: 47\n",
      "Validation F1-Measure: 69.7996086029 \t\tDepth: 48\n",
      "Validation F1-Measure: 69.3487834532 \t\tDepth: 49\n",
      "Validation F1-Measure: 69.6588336856 \t\tDepth: 50\n",
      "Validation F1-Measure: 69.7499125772 \t\tDepth: 51\n",
      "Validation F1-Measure: 69.6799405727 \t\tDepth: 52\n",
      "Validation F1-Measure: 69.7099972739 \t\tDepth: 53\n",
      "Validation F1-Measure: 69.6399805696 \t\tDepth: 54\n",
      "Validation F1-Measure: 69.6999563679 \t\tDepth: 55\n",
      "Validation F1-Measure: 69.4799804672 \t\tDepth: 56\n",
      "Validation F1-Measure: 69.6099996961 \t\tDepth: 57\n",
      "Validation F1-Measure: 69.6293291119 \t\tDepth: 58\n",
      "Validation F1-Measure: 69.4598240886 \t\tDepth: 59\n",
      "Validation F1-Measure: 69.2299627683 \t\tDepth: 60\n",
      "Validation F1-Measure: 69.1092583133 \t\tDepth: 61\n",
      "Validation F1-Measure: 68.9399888184 \t\tDepth: 62\n",
      "Validation F1-Measure: 69.1696642576 \t\tDepth: 63\n",
      "Validation F1-Measure: 68.9792244806 \t\tDepth: 64\n",
      "Validation F1-Measure: 69.217506618 \t\tDepth: 65\n",
      "Validation F1-Measure: 69.4090060986 \t\tDepth: 66\n",
      "Validation F1-Measure: 68.9583001565 \t\tDepth: 67\n",
      "Validation F1-Measure: 69.1599888976 \t\tDepth: 68\n",
      "Validation F1-Measure: 69.2272227569 \t\tDepth: 69\n",
      "Validation F1-Measure: 69.0061812516 \t\tDepth: 70\n",
      "Validation F1-Measure: 69.2486195705 \t\tDepth: 71\n",
      "Validation F1-Measure: 69.0798503465 \t\tDepth: 72\n",
      "Validation F1-Measure: 68.6081387765 \t\tDepth: 73\n",
      "Validation F1-Measure: 68.6874070042 \t\tDepth: 74\n",
      "Validation F1-Measure: 68.8973674732 \t\tDepth: 75\n",
      "Validation F1-Measure: 68.8083377963 \t\tDepth: 76\n",
      "Validation F1-Measure: 69.1382174234 \t\tDepth: 77\n",
      "Validation F1-Measure: 68.8076390502 \t\tDepth: 78\n",
      "Validation F1-Measure: 69.2018172308 \t\tDepth: 79\n",
      "Validation F1-Measure: 69.2578308325 \t\tDepth: 80\n",
      "Validation F1-Measure: 69.1167869105 \t\tDepth: 81\n",
      "Validation F1-Measure: 69.2194570312 \t\tDepth: 82\n",
      "Validation F1-Measure: 69.1023840466 \t\tDepth: 83\n",
      "Validation F1-Measure: 68.9344218648 \t\tDepth: 84\n",
      "Validation F1-Measure: 69.167875975 \t\tDepth: 85\n",
      "Validation F1-Measure: 69.1173860956 \t\tDepth: 86\n",
      "Validation F1-Measure: 68.926830226 \t\tDepth: 87\n",
      "Validation F1-Measure: 68.8882499641 \t\tDepth: 88\n",
      "Validation F1-Measure: 69.0566531676 \t\tDepth: 89\n",
      "Validation F1-Measure: 69.3045702854 \t\tDepth: 90\n",
      "Validation F1-Measure: 68.9643437516 \t\tDepth: 91\n",
      "Validation F1-Measure: 69.0544434159 \t\tDepth: 92\n",
      "Validation F1-Measure: 68.8258772223 \t\tDepth: 93\n",
      "Validation F1-Measure: 68.8965052113 \t\tDepth: 94\n",
      "Validation F1-Measure: 69.3645809007 \t\tDepth: 95\n",
      "Validation F1-Measure: 68.9656052194 \t\tDepth: 96\n",
      "Validation F1-Measure: 68.9967744244 \t\tDepth: 97\n",
      "Validation F1-Measure: 68.9967744244 \t\tDepth: 98\n",
      "Validation F1-Measure: 68.9967744244 \t\tDepth: 99\n",
      "\n",
      "Best depth is 11.0 and F1-Measure for validation set corresponding to best depth is 71.6465822935\n"
     ]
    },
    {
     "data": {
      "image/png": "[encoded data removed]",
      "text/plain": [
       "<matplotlib.figure.Figure at 0x1d5bf25f4a8>"
      ]
     },
     "metadata": {},
     "output_type": "display_data"
    }
   ],
   "source": [
    "\"\"\" Decision Tree \"\"\"\n",
    "x_DT_train_F = IMDB_TrainFrequencyBag\n",
    "y_DT_train_F = np.ravel(train_IMDB_label)\n",
    "x_DT_valid_F = IMDB_ValidFrequencyBag\n",
    "y_DT_valid_F = np.ravel(valid_IMDB_label)\n",
    "x_DT_test_F = IMDB_TestFrequencyBag\n",
    "y_DT_test_F = np.ravel(test_IMDB_label)\n",
    "\n",
    "\"\"\" Hyper Parameter Tuning on Validation Set \"\"\"\n",
    "F1_measure_DT_F = []\n",
    "depth_list_DT_F= []\n",
    "for depth in range(1,100,1):\n",
    "    clf_decisionTree_F = DecisionTreeClassifier(criterion= \"gini\", random_state=1, max_depth=depth)\n",
    "    clf_decisionTree_F.fit(x_DT_train_F, y_DT_train_F)\n",
    "    prediction_DT_valid_F = clf_decisionTree_F.predict(x_DT_valid_F)\n",
    "    F1_measure_valid_F = f1_score(valid_IMDB_label, prediction_DT_valid_F, average='macro')*100\n",
    "    F1_measure_DT_F = np.append(F1_measure_DT_F, F1_measure_valid_F)\n",
    "    depth_list_DT_F = np.append(depth_list_DT_F, depth)\n",
    "    print(\"Validation F1-Measure:\", F1_measure_valid_F, \"\\t\\t\" \"Depth:\", depth)\n",
    "\n",
    "best_depth = depth_list_DT_F [np.argmax(F1_measure_DT_F)]\n",
    "print('\\n''Best depth is', best_depth,'and F1-Measure for validation set corresponding to best depth is', max(F1_measure_DT_F))\n",
    "\n",
    "\n",
    "\"\"\" Plotting \"\"\"\n",
    "\n",
    "a = F1_measure_DT_F.squeeze()\n",
    "b = depth_list_DT_F.squeeze()\n",
    "plt.plot(b , a)\n",
    "plt.ylabel('F1_Measure')\n",
    "plt.xlabel(\"Max-Depth\")\n",
    "# plt.legend(loc ='upper right')\n",
    "plt.show()"
   ]
  },
  {
   "cell_type": "code",
   "execution_count": 81,
   "metadata": {},
   "outputs": [
    {
     "name": "stdout",
     "output_type": "stream",
     "text": [
      "Validation F1-Measure: 71.6465822935 \t\tMin_Sample_Split: 2\n",
      "Validation F1-Measure: 71.5533128395 \t\tMin_Sample_Split: 7\n",
      "Validation F1-Measure: 71.4198368169 \t\tMin_Sample_Split: 12\n",
      "Validation F1-Measure: 71.2274520496 \t\tMin_Sample_Split: 17\n",
      "Validation F1-Measure: 71.2182898362 \t\tMin_Sample_Split: 22\n",
      "Validation F1-Measure: 71.2674038515 \t\tMin_Sample_Split: 27\n",
      "Validation F1-Measure: 71.4093874947 \t\tMin_Sample_Split: 32\n",
      "Validation F1-Measure: 71.4516716552 \t\tMin_Sample_Split: 37\n",
      "Validation F1-Measure: 71.4849365338 \t\tMin_Sample_Split: 42\n",
      "Validation F1-Measure: 71.5700262817 \t\tMin_Sample_Split: 47\n",
      "Validation F1-Measure: 71.5506317621 \t\tMin_Sample_Split: 52\n",
      "Validation F1-Measure: 71.614180544 \t\tMin_Sample_Split: 57\n",
      "Validation F1-Measure: 71.5409339912 \t\tMin_Sample_Split: 62\n",
      "Validation F1-Measure: 71.6031508421 \t\tMin_Sample_Split: 67\n",
      "Validation F1-Measure: 71.7235615099 \t\tMin_Sample_Split: 72\n",
      "Validation F1-Measure: 71.6275183124 \t\tMin_Sample_Split: 77\n",
      "Validation F1-Measure: 71.6365255069 \t\tMin_Sample_Split: 82\n",
      "Validation F1-Measure: 71.6150711366 \t\tMin_Sample_Split: 87\n",
      "Validation F1-Measure: 71.4447886092 \t\tMin_Sample_Split: 92\n",
      "Validation F1-Measure: 71.4827401743 \t\tMin_Sample_Split: 97\n",
      "Validation F1-Measure: 71.5552993425 \t\tMin_Sample_Split: 102\n",
      "Validation F1-Measure: 71.6012593312 \t\tMin_Sample_Split: 107\n",
      "Validation F1-Measure: 71.5203686193 \t\tMin_Sample_Split: 112\n",
      "Validation F1-Measure: 71.6990154478 \t\tMin_Sample_Split: 117\n",
      "Validation F1-Measure: 71.5559568824 \t\tMin_Sample_Split: 122\n",
      "Validation F1-Measure: 71.4470476774 \t\tMin_Sample_Split: 127\n",
      "Validation F1-Measure: 71.5192094614 \t\tMin_Sample_Split: 132\n",
      "Validation F1-Measure: 71.5403017987 \t\tMin_Sample_Split: 137\n",
      "Validation F1-Measure: 71.0696520339 \t\tMin_Sample_Split: 142\n",
      "Validation F1-Measure: 71.0428999838 \t\tMin_Sample_Split: 147\n",
      "Validation F1-Measure: 71.048983185 \t\tMin_Sample_Split: 152\n",
      "Validation F1-Measure: 71.0812008995 \t\tMin_Sample_Split: 157\n",
      "Validation F1-Measure: 71.048983185 \t\tMin_Sample_Split: 162\n",
      "Validation F1-Measure: 71.048983185 \t\tMin_Sample_Split: 167\n",
      "Validation F1-Measure: 71.0082545847 \t\tMin_Sample_Split: 172\n",
      "Validation F1-Measure: 71.0082545847 \t\tMin_Sample_Split: 177\n",
      "Validation F1-Measure: 71.0915305615 \t\tMin_Sample_Split: 182\n",
      "Validation F1-Measure: 71.0915305615 \t\tMin_Sample_Split: 187\n",
      "Validation F1-Measure: 71.0915305615 \t\tMin_Sample_Split: 192\n",
      "Validation F1-Measure: 71.0915305615 \t\tMin_Sample_Split: 197\n",
      "\n",
      "Best Min_Sample_Split is 72.0 and F1-Measure for validation set corresponding to best split is 71.7235615099\n"
     ]
    },
    {
     "data": {
      "image/png": "[encoded data removed]",
      "text/plain": [
       "<matplotlib.figure.Figure at 0x1d5bc01ee80>"
      ]
     },
     "metadata": {},
     "output_type": "display_data"
    }
   ],
   "source": [
    "\"\"\" Decision Tree \"\"\"\n",
    "\"\"\" Tuning Min-Sample-Split \"\"\"\n",
    "\"\"\" Hyper Parameter Tuning on Validation Set \"\"\"\n",
    "F1_measure_DT_F = []\n",
    "split_list_DT_F= []\n",
    "for split in range(2,200,5):\n",
    "    clf_decisionTree_F = DecisionTreeClassifier(criterion= \"gini\", random_state=1, min_samples_split = split, min_samples_leaf=1, max_depth = 11.0)\n",
    "    clf_decisionTree_F.fit(x_DT_train_F, y_DT_train_F)\n",
    "    prediction_DT_valid_F = clf_decisionTree_F.predict(x_DT_valid_F)\n",
    "    F1_measure_valid_F = f1_score(valid_IMDB_label, prediction_DT_valid_F, average='macro')*100\n",
    "    F1_measure_DT_F = np.append(F1_measure_DT_F, F1_measure_valid_F)\n",
    "    split_list_DT_F= np.append(split_list_DT_F, split)\n",
    "    print(\"Validation F1-Measure:\", F1_measure_valid_F, \"\\t\\t\"\"Min_Sample_Split:\", split)\n",
    "\n",
    "best_split_F = split_list_DT_F [np.argmax(F1_measure_DT_F)]\n",
    "print('\\n''Best Min_Sample_Split is', best_split_F,'and F1-Measure for validation set corresponding to best split is', max(F1_measure_DT_F))\n",
    "\n",
    "\"\"\" Plotting \"\"\"\n",
    "\n",
    "a = F1_measure_DT_F.squeeze()\n",
    "b = split_list_DT_F.squeeze()\n",
    "plt.plot(b , a)\n",
    "plt.ylabel('F1_Measure')\n",
    "plt.xlabel(\"Split\")\n",
    "# plt.legend(loc ='upper right')\n",
    "plt.show()"
   ]
  },
  {
   "cell_type": "code",
   "execution_count": 85,
   "metadata": {},
   "outputs": [
    {
     "name": "stdout",
     "output_type": "stream",
     "text": [
      "Validation F1-Measure: 71.7235615099 \t\tMin_Sample_Leaf: 1\n",
      "Validation F1-Measure: 71.6859000446 \t\tMin_Sample_Leaf: 11\n",
      "Validation F1-Measure: 71.7313495121 \t\tMin_Sample_Leaf: 21\n",
      "Validation F1-Measure: 72.051630109 \t\tMin_Sample_Leaf: 31\n",
      "Validation F1-Measure: 71.933417489 \t\tMin_Sample_Leaf: 41\n",
      "Validation F1-Measure: 71.3846005867 \t\tMin_Sample_Leaf: 51\n",
      "Validation F1-Measure: 71.5936362694 \t\tMin_Sample_Leaf: 61\n",
      "Validation F1-Measure: 71.0430048064 \t\tMin_Sample_Leaf: 71\n",
      "Validation F1-Measure: 70.8725508431 \t\tMin_Sample_Leaf: 81\n",
      "Validation F1-Measure: 71.037255342 \t\tMin_Sample_Leaf: 91\n",
      "\n",
      "Best Min_Sample_Leaf is 31.0 and F1-Measure for validation set corresponding to best leaf is 72.051630109\n"
     ]
    },
    {
     "data": {
      "image/png": "[encoded data removed]",
      "text/plain": [
       "<matplotlib.figure.Figure at 0x1d5bf25c860>"
      ]
     },
     "metadata": {},
     "output_type": "display_data"
    }
   ],
   "source": [
    "\"\"\" Decision Tree \"\"\"\n",
    "\"\"\" Tuning Min-Sample-Leaf \"\"\"\n",
    "\"\"\" Hyper Parameter Tuning on Validation Set \"\"\"\n",
    "F1_measure_DT_F = []\n",
    "leaf_list_DT_F= []\n",
    "for leaf in range(1,100,10):\n",
    "    clf_decisionTree_F = DecisionTreeClassifier(criterion= \"gini\", random_state=1, min_samples_split = 72 , min_samples_leaf= leaf, max_depth=11.0)\n",
    "    clf_decisionTree_F.fit(x_DT_train_F, y_DT_train_F)\n",
    "    prediction_DT_valid_F = clf_decisionTree_F.predict(x_DT_valid_F)\n",
    "    F1_measure_valid_F = f1_score(valid_IMDB_label, prediction_DT_valid_F, average='macro')*100\n",
    "    F1_measure_DT_F = np.append(F1_measure_DT_F, F1_measure_valid_F)\n",
    "    leaf_list_DT_F = np.append(leaf_list_DT_F, leaf)\n",
    "    print(\"Validation F1-Measure:\", F1_measure_valid_F, \"\\t\\t\"\"Min_Sample_Leaf:\", leaf)\n",
    "\n",
    "best_leaf_F = leaf_list_DT_F [np.argmax(F1_measure_DT_F)]\n",
    "print('\\n''Best Min_Sample_Leaf is', best_leaf_F,'and F1-Measure for validation set corresponding to best leaf is', max(F1_measure_DT_F))\n",
    "\n",
    "\"\"\" Plotting \"\"\"\n",
    "\n",
    "a = F1_measure_DT_F.squeeze()\n",
    "b = leaf_list_DT_F.squeeze()\n",
    "plt.plot(b , a)\n",
    "plt.ylabel('F1_Measure')\n",
    "plt.xlabel(\"Leaf\")\n",
    "# plt.legend(loc ='upper right')\n",
    "plt.show()"
   ]
  },
  {
   "cell_type": "markdown",
   "metadata": {},
   "source": [
    "# Decision Tree Classifire"
   ]
  },
  {
   "cell_type": "code",
   "execution_count": 90,
   "metadata": {},
   "outputs": [
    {
     "name": "stdout",
     "output_type": "stream",
     "text": [
      "Train Set has Accuracy 100.0 and F1-Measure 100.0 .\n",
      "Validation Set has Accuracy 57.37 and F1-Measure 57.3422618057 .\n",
      "Test Set has Accuracy 58.5 and F1-Measure 58.4623164153 .\n"
     ]
    }
   ],
   "source": [
    "\"\"\" Decision Tree Classifier for Train Set \"\"\"\n",
    "clf_decisionTree_F = DecisionTreeClassifier(criterion= \"gini\", random_state=1, max_depth=None, min_samples_split = 2 , min_samples_leaf= 1)\n",
    "clf_decisionTree_F.fit(x_DT_train_F, y_DT_train_F)\n",
    "prediction_DT_Train_F = clf_decisionTree_F.predict(x_DT_train_F)\n",
    "accuracy_F = accuracy_score(prediction_DT_Train_F,y_DT_train_F)*100\n",
    "F1_measure_train_F = f1_score(train_IMDB_label, prediction_DT_Train_F, average='macro')*100\n",
    "print(\"Train Set has Accuracy\",accuracy_F ,\"and F1-Measure\",F1_measure_train_F,\".\")\n",
    "\n",
    "\"\"\" Decision Tree Classifier for Validation Set \"\"\"\n",
    "prediction_DT_Valid_F = clf_decisionTree_F.predict(x_DT_valid)\n",
    "accuracy_F = accuracy_score(prediction_DT_Valid_F ,y_DT_valid_F)*100\n",
    "F1_measure_valid_F = f1_score(valid_IMDB_label, prediction_DT_Valid_F, average='macro')*100\n",
    "print(\"Validation Set has Accuracy\",accuracy_F ,\"and F1-Measure\",F1_measure_valid_F,\".\")\n",
    "\n",
    "\"\"\" Decision Tree Classifier for Test Set \"\"\"\n",
    "prediction_DT_Test_F = clf_decisionTree_F.predict(x_DT_test)\n",
    "accuracy_F = accuracy_score(prediction_DT_Test_F ,y_DT_test_F)*100\n",
    "F1_measure_test_F = f1_score(test_IMDB_label, prediction_DT_Test_F, average='macro')*100\n",
    "print(\"Test Set has Accuracy\",accuracy_F ,\"and F1-Measure\",F1_measure_test_F,\".\")"
   ]
  },
  {
   "cell_type": "code",
   "execution_count": 91,
   "metadata": {},
   "outputs": [
    {
     "name": "stdout",
     "output_type": "stream",
     "text": [
      "Confusion matrix, without normalization\n",
      "[[7689 4811]\n",
      " [5564 6936]]\n",
      "Normalized confusion matrix\n",
      "[[ 0.62  0.38]\n",
      " [ 0.45  0.55]]\n"
     ]
    },
    {
     "data": {
      "image/png": "[encoded data removed]",
      "text/plain": [
       "<matplotlib.figure.Figure at 0x1d5bf246240>"
      ]
     },
     "metadata": {},
     "output_type": "display_data"
    },
    {
     "data": {
      "image/png": "[encoded data removed]",
      "text/plain": [
       "<matplotlib.figure.Figure at 0x1d5bc0810f0>"
      ]
     },
     "metadata": {},
     "output_type": "display_data"
    }
   ],
   "source": [
    "class_names = ['0','1']\n",
    "def plot_confusion_matrix(cm, classes,\n",
    "                          normalize=False,\n",
    "                          title='Confusion matrix',\n",
    "                          cmap=plt.cm.Purples):\n",
    "    \"\"\"\n",
    "    This function prints and plots the confusion matrix.\n",
    "    Normalization can be applied by setting `normalize=True`.\n",
    "    \"\"\"\n",
    "    if normalize:\n",
    "        cm = cm.astype('float') / cm.sum(axis=1)[:, np.newaxis]\n",
    "        print(\"Normalized confusion matrix\")\n",
    "    else:\n",
    "        print('Confusion matrix, without normalization')\n",
    "\n",
    "    print(cm)\n",
    "\n",
    "    plt.imshow(cm, interpolation='nearest', cmap=cmap)\n",
    "    plt.title(title)\n",
    "    plt.colorbar()\n",
    "    tick_marks = np.arange(len(classes))\n",
    "    plt.xticks(tick_marks, classes, rotation=45)\n",
    "    plt.yticks(tick_marks, classes)\n",
    "\n",
    "    fmt = '.2f' if normalize else 'd'\n",
    "    thresh = cm.max() / 2.\n",
    "    for i, j in itertools.product(range(cm.shape[0]), range(cm.shape[1])):\n",
    "        plt.text(j, i, format(cm[i, j], fmt),\n",
    "                 horizontalalignment=\"center\",\n",
    "                 color=\"white\" if cm[i, j] > thresh else \"black\")\n",
    "\n",
    "    plt.tight_layout()\n",
    "    plt.ylabel('True label')\n",
    "    plt.xlabel('Predicted label')\n",
    "# Compute confusion matrix\n",
    "cnf_matrix = confusion_matrix(test_IMDB_label, prediction_DT_Test_F)\n",
    "np.set_printoptions(precision=2)\n",
    "\n",
    "# Plot non-normalized confusion matrix\n",
    "plt.figure()\n",
    "plot_confusion_matrix(cnf_matrix, classes=class_names,\n",
    "                      title='Confusion matrix, without normalization')\n",
    "\n",
    "# Plot normalized confusion matrix\n",
    "plt.figure()\n",
    "plot_confusion_matrix(cnf_matrix, classes=class_names, normalize=True,\n",
    "                      title='Normalized confusion matrix')\n",
    "\n",
    "plt.show()"
   ]
  }
 ],
 "metadata": {
  "kernelspec": {
   "display_name": "Python 3",
   "language": "python",
   "name": "python3"
  },
  "language_info": {
   "codemirror_mode": {
    "name": "ipython",
    "version": 3
   },
   "file_extension": ".py",
   "mimetype": "text/x-python",
   "name": "python",
   "nbconvert_exporter": "python",
   "pygments_lexer": "ipython3",
   "version": "3.6.3"
  }
 },
 "nbformat": 4,
 "nbformat_minor": 2
}
