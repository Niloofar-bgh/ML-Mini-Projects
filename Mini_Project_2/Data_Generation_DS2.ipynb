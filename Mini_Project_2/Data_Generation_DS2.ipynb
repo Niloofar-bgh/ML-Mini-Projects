{
 "cells": [
  {
   "cell_type": "code",
   "execution_count": 145,
   "metadata": {
    "collapsed": true
   },
   "outputs": [],
   "source": [
    "import numpy as np"
   ]
  },
  {
   "cell_type": "markdown",
   "metadata": {},
   "source": [
    "# Importing Covariance Matrices"
   ]
  },
  {
   "cell_type": "code",
   "execution_count": 146,
   "metadata": {
    "collapsed": true
   },
   "outputs": [],
   "source": [
    "\"\"\" Extracting Cov-Matrix_1 data \"\"\"\n",
    "cov_mat_1 = []\n",
    "with open ('DS2_Cov1.txt','r') as file:\n",
    "    lines = file.readlines()\n",
    "    for l in lines:\n",
    "        lread = l.split(',') [:-1]\n",
    "        fl_lread = list(map(lambda x: float(x), lread))\n",
    "        cov_mat_1.append(fl_lread)     \n",
    "cov_mat_1 = np.asarray(cov_mat_1, dtype= np.float).squeeze()\n"
   ]
  },
  {
   "cell_type": "code",
   "execution_count": 147,
   "metadata": {
    "collapsed": true
   },
   "outputs": [],
   "source": [
    "\"\"\" Extracting Cov-Matrix_2 data \"\"\"\n",
    "cov_mat_2 = []\n",
    "with open ('DS2_Cov2.txt','r') as file:\n",
    "    lines = file.readlines()\n",
    "    for l in lines:\n",
    "        lread = l.split(',') [:-1]\n",
    "        fl_lread = list(map(lambda x: float(x), lread))\n",
    "        cov_mat_2.append(fl_lread)     \n",
    "cov_mat_2 = np.asarray(cov_mat_2, dtype= np.float).squeeze()"
   ]
  },
  {
   "cell_type": "code",
   "execution_count": 148,
   "metadata": {
    "collapsed": true
   },
   "outputs": [],
   "source": [
    "\"\"\" Extracting Cov-Matrix_3 data \"\"\"\n",
    "cov_mat_3 = []\n",
    "with open ('DS2_Cov3.txt','r') as file:\n",
    "    lines = file.readlines()\n",
    "    for l in lines:\n",
    "        lread = l.split(',') [:-1]\n",
    "        fl_lread = list(map(lambda x: float(x), lread))\n",
    "        cov_mat_3.append(fl_lread)     \n",
    "cov_mat_3 = np.asarray(cov_mat_3, dtype= np.float).squeeze()\n"
   ]
  },
  {
   "cell_type": "markdown",
   "metadata": {},
   "source": [
    "# Importing Mean Vectors for Negative Class (Class 2)"
   ]
  },
  {
   "cell_type": "code",
   "execution_count": 149,
   "metadata": {
    "collapsed": true
   },
   "outputs": [],
   "source": [
    "\"\"\" Extracting Mean Vector of the Negative Class (DS2-c2-m1) \"\"\"\n",
    "mean_neg_1 = []\n",
    "with open ('DS2_c2_m1.txt','r') as file:\n",
    "    lines = file.readlines()\n",
    "    for l in lines:\n",
    "        lread = l.split(',')[:-1]\n",
    "        mn_lread = list(map(lambda x: float(x), lread))\n",
    "        mean_neg_1.append(mn_lread)\n",
    "mean_neg_1 = np.asarray(mean_neg_1).squeeze()  "
   ]
  },
  {
   "cell_type": "code",
   "execution_count": 150,
   "metadata": {
    "collapsed": true
   },
   "outputs": [],
   "source": [
    "\"\"\" Extracting Mean Vector of the Negative Class (DS2-c2-m2) \"\"\"\n",
    "mean_neg_2 = []\n",
    "with open ('DS2_c2_m2.txt','r') as file:\n",
    "    lines = file.readlines()\n",
    "    for l in lines:\n",
    "        lread = l.split(',')[:-1]\n",
    "        mn_lread = list(map(lambda x: float(x), lread))\n",
    "        mean_neg_2.append(mn_lread)\n",
    "mean_neg_2 = np.asarray(mean_neg_2).squeeze()"
   ]
  },
  {
   "cell_type": "code",
   "execution_count": 151,
   "metadata": {
    "collapsed": true
   },
   "outputs": [],
   "source": [
    "\"\"\" Extracting Mean Vector of the Negative Class (DS2-c2-m3) \"\"\"\n",
    "mean_neg_3 = []\n",
    "with open ('DS2_c2_m3.txt','r') as file:\n",
    "    lines = file.readlines()\n",
    "    for l in lines:\n",
    "        lread = l.split(',')[:-1]\n",
    "        mn_lread = list(map(lambda x: float(x), lread))\n",
    "        mean_neg_3.append(mn_lread)\n",
    "mean_neg_3 = np.asarray(mean_neg_3).squeeze()  "
   ]
  },
  {
   "cell_type": "markdown",
   "metadata": {},
   "source": [
    "# Importing Mean Vectors for Positive Class (Class 1)"
   ]
  },
  {
   "cell_type": "code",
   "execution_count": 152,
   "metadata": {
    "collapsed": true
   },
   "outputs": [],
   "source": [
    "\"\"\" Extracting Mean Vector of the Positive Class (DS1-c1-m1) \"\"\"\n",
    "mean_pos_1 = []\n",
    "with open ('DS2_c1_m1.txt','r') as file:\n",
    "    lines = file.readlines()\n",
    "    for l in lines:\n",
    "        lread = l.split(',')[:-1]\n",
    "        mp_lread = list(map(lambda x: float(x), lread))\n",
    "        mean_pos_1.append(mp_lread)\n",
    "mean_pos_1 = np.asarray(mean_pos_1).squeeze()"
   ]
  },
  {
   "cell_type": "code",
   "execution_count": 153,
   "metadata": {
    "collapsed": true
   },
   "outputs": [],
   "source": [
    "\"\"\" Extracting Mean Vector of the Positive Class (DS1-c1-m2) \"\"\"\n",
    "mean_pos_2 = []\n",
    "with open ('DS2_c1_m2.txt','r') as file:\n",
    "    lines = file.readlines()\n",
    "    for l in lines:\n",
    "        lread = l.split(',')[:-1]\n",
    "        mp_lread = list(map(lambda x: float(x), lread))\n",
    "        mean_pos_2.append(mp_lread)\n",
    "mean_pos_2 = np.asarray(mean_pos_2).squeeze()"
   ]
  },
  {
   "cell_type": "code",
   "execution_count": 154,
   "metadata": {
    "collapsed": true
   },
   "outputs": [],
   "source": [
    "\"\"\" Extracting Mean Vector of the Positive Class (DS1-c1-m3) \"\"\"\n",
    "mean_pos_3 = []\n",
    "with open ('DS2_c1_m3.txt','r') as file:\n",
    "    lines = file.readlines()\n",
    "    for l in lines:\n",
    "        lread = l.split(',')[:-1]\n",
    "        mp_lread = list(map(lambda x: float(x), lread))\n",
    "        mean_pos_3.append(mp_lread)\n",
    "mean_pos_3 = np.asarray(mean_pos_3).squeeze()"
   ]
  },
  {
   "cell_type": "markdown",
   "metadata": {},
   "source": [
    "# Generating Data "
   ]
  },
  {
   "cell_type": "code",
   "execution_count": 155,
   "metadata": {
    "collapsed": true
   },
   "outputs": [],
   "source": [
    "Negative_class = np.zeros([0, 20])\n",
    "np.random.seed(2)\n",
    "for i in range(2000):\n",
    "    Number = np.random.random()\n",
    "    if Number <= 0.1:\n",
    "        data = np.random.multivariate_normal(mean_neg_1, cov_mat_1, 1)\n",
    "    elif Number > 0.1 and Number <= 0.52:\n",
    "        data = np.random.multivariate_normal(mean_neg_2, cov_mat_2, 1) \n",
    "    else:\n",
    "        data = np.random.multivariate_normal(mean_neg_3, cov_mat_3, 1)\n",
    "        \n",
    "    Negative_class = np.vstack((Negative_class, data))\n",
    "\n",
    "\n",
    "# np.random.seed(3)\n",
    "# generators = [np.random.multivariate_normal(mean = mean_neg_1, cov = cov_mat_1),\n",
    "#               np.random.multivariate_normal(mean = mean_neg_2, cov = cov_mat_2),\n",
    "#               np.random.multivariate_normal(mean = mean_neg_3, cov = cov_mat_3)]\n",
    "# draw = np.random.choice([0, 1, 2], 2000, p=[0.1, 0.42, 0.48])\n",
    "# Negative_class = np.array(list(generators[i] for i in draw))\n",
    "\n",
    "\n",
    "\"\"\" Seperating Training and Test Dataset \"\"\"\n",
    "Negative_class_test = Negative_class[0:600]\n",
    "Negative_class_train = Negative_class[600:]\n",
    "\n",
    "''' Adding Class Label'''\n",
    "Negative_class_test = np.insert(Negative_class_test, 0, 0, axis = 1)\n",
    "Negative_class_train = np.insert(Negative_class_train, 0, 0, axis = 1)\n"
   ]
  },
  {
   "cell_type": "code",
   "execution_count": 156,
   "metadata": {
    "collapsed": true
   },
   "outputs": [],
   "source": [
    "Positive_class = np.zeros([0, 20])\n",
    "np.random.seed(2)\n",
    "for i in range(2000):\n",
    "    Number = np.random.random()\n",
    "    if Number <= 0.1:\n",
    "        data = np.random.multivariate_normal(mean_pos_1, cov_mat_1, 1)\n",
    "    elif Number > 0.1 and Number <= 0.52:\n",
    "        data = np.random.multivariate_normal(mean_pos_2, cov_mat_2, 1) \n",
    "    else:\n",
    "        data = np.random.multivariate_normal(mean_pos_3, cov_mat_3, 1)\n",
    "        \n",
    "    Positive_class = np.vstack((Positive_class, data))\n",
    "\n",
    "\n",
    "#np.random.seed(6)\n",
    "# generators = [np.random.multivariate_normal(mean = mean_pos_1, cov = cov_mat_1),\n",
    "#               np.random.multivariate_normal(mean = mean_pos_2, cov = cov_mat_2),\n",
    "#               np.random.multivariate_normal(mean = mean_pos_3, cov = cov_mat_3)]\n",
    "# draw = np.random.choice([0, 1, 2], 2000, p=[0.1, 0.42, 0.48])\n",
    "# Positive_class = np.array(list(generators[i] for i in draw))\n",
    "\n",
    "\"\"\" Seperating Training and Test Dataset \"\"\"\n",
    "Positive_class_test = Positive_class[0:600]\n",
    "Positive_class_train = Positive_class[600:]\n",
    "\n",
    "''' Adding Class Label'''\n",
    "Positive_class_test = np.insert(Positive_class_test, 0, 1, axis = 1)\n",
    "Positive_class_train = np.insert(Positive_class_train, 0, 1, axis = 1)"
   ]
  },
  {
   "cell_type": "markdown",
   "metadata": {},
   "source": [
    "# Saving Data as CSV file"
   ]
  },
  {
   "cell_type": "code",
   "execution_count": 157,
   "metadata": {
    "collapsed": true
   },
   "outputs": [],
   "source": [
    "''' Saving Dataset'''\n",
    "train_set = []\n",
    "test_set = []\n",
    "\n",
    "test_set = Negative_class_test\n",
    "test_set = np.concatenate((test_set, Positive_class_test), axis = 0)\n",
    "\n",
    "train_set = Negative_class_train\n",
    "train_set = np.concatenate((train_set, Positive_class_train), axis = 0)\n",
    "\n",
    "np.savetxt('DS2_test.csv',test_set, delimiter =',' )\n",
    "np.savetxt('DS2_train.csv',train_set, delimiter =',' )"
   ]
  }
 ],
 "metadata": {
  "kernelspec": {
   "display_name": "Python 2",
   "language": "python",
   "name": "python2"
  },
  "language_info": {
   "codemirror_mode": {
    "name": "ipython",
    "version": 2
   },
   "file_extension": ".py",
   "mimetype": "text/x-python",
   "name": "python",
   "nbconvert_exporter": "python",
   "pygments_lexer": "ipython2",
   "version": "2.7.14"
  }
 },
 "nbformat": 4,
 "nbformat_minor": 2
}
