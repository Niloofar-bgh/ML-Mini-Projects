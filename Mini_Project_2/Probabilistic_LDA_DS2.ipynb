{
 "cells": [
  {
   "cell_type": "code",
   "execution_count": 21,
   "metadata": {
    "collapsed": true
   },
   "outputs": [],
   "source": [
    "import numpy as np\n",
    "from numpy.linalg import inv"
   ]
  },
  {
   "cell_type": "code",
   "execution_count": 22,
   "metadata": {
    "collapsed": true
   },
   "outputs": [],
   "source": [
    "\"\"\" Extracting Training data \"\"\"\n",
    "Train_set = []\n",
    "with open ('DS2_train.csv','r') as file:\n",
    "    lines = file.readlines()\n",
    "    for l in lines:\n",
    "        lread = l.split(',') \n",
    "        fl_lread = list(map(lambda x: float(x), lread))\n",
    "        Train_set.append(fl_lread)\n",
    "Train_set = np.array(Train_set)"
   ]
  },
  {
   "cell_type": "code",
   "execution_count": 23,
   "metadata": {
    "collapsed": true
   },
   "outputs": [],
   "source": [
    "\"\"\" Calculating Mu_1 \"\"\"\n",
    "Mu_1 = np.zeros(20)\n",
    "Mu_1 = np.array(Mu_1)\n",
    "for i in range(len(Train_set)):\n",
    "    if i < 1400:\n",
    "        Mu_1 = np.add(Mu_1, Train_set[i, 1:])  \n",
    "    else: \n",
    "        break \n",
    "Mu_1 = np.divide(Mu_1, i) \n",
    "\n",
    "# Mu_1 = np.matrix(Mu_1)\n",
    "count = i\n"
   ]
  },
  {
   "cell_type": "code",
   "execution_count": 24,
   "metadata": {},
   "outputs": [
    {
     "name": "stdout",
     "output_type": "stream",
     "text": [
      "[ 1.01537074  1.01212505  1.04040861  0.94188652  1.02383812  1.00762076\n",
      "  1.01168398  0.99408936  1.09975549  1.00266134  0.95907997  1.01953033\n",
      "  0.97864778  1.01447781  1.01264296  0.9934457   1.01439542  0.97844027\n",
      "  0.94678732  0.95932141]\n"
     ]
    }
   ],
   "source": [
    "\"\"\" Calculating Mu_2 \"\"\"\n",
    "Mu_2 = np.zeros(20)\n",
    "Mu_2 = np.array(Mu_2)\n",
    "for i in range(len(Train_set)):\n",
    "    if i >= 1400:\n",
    "        Mu_2 = np.add(Mu_2, Train_set[i, 1:])  \n",
    "Mu_2 = np.divide(Mu_2, 1400) \n",
    "print(Mu_2)"
   ]
  },
  {
   "cell_type": "code",
   "execution_count": 25,
   "metadata": {
    "collapsed": true
   },
   "outputs": [],
   "source": [
    "\"\"\" Transposing Matrices \"\"\"\n",
    "\n",
    "Train_set_new = np.transpose(Train_set)\n",
    "Mu_1_new = np.transpose(Mu_1)\n",
    "Mu_2_new = np.transpose(Mu_2)"
   ]
  },
  {
   "cell_type": "code",
   "execution_count": 26,
   "metadata": {
    "collapsed": true
   },
   "outputs": [],
   "source": [
    "\"\"\" Calculating Sigma \"\"\"\n",
    "train_x = Train_set_new.T[:,1:21]\n",
    "\n",
    "S1 = np.dot((train_x[:1400,:]-Mu_2_new[None,:]).T, (train_x[:1400,:]-Mu_2_new[None,:]))/ (train_x.shape[0]//2)\n",
    "       \n",
    "S2 = np.dot((train_x[1400:,:]-Mu_1_new[None,:]).T, (train_x[1400:,:]-Mu_1_new[None,:]))/ (train_x.shape[0]//2)\n",
    "\n",
    "sigma = 0.5*S1 + 0.5*S2\n"
   ]
  },
  {
   "cell_type": "code",
   "execution_count": 27,
   "metadata": {},
   "outputs": [
    {
     "name": "stdout",
     "output_type": "stream",
     "text": [
      "[ 0.01691242 -0.00083862  0.01029409 -0.00034687 -0.03417081  0.00466158\n",
      "  0.02541256 -0.01094243 -0.02243838 -0.0135647  -0.02370074 -0.01316583\n",
      " -0.02029278 -0.00483812  0.02565607  0.00129579 -0.00131659 -0.0010151\n",
      "  0.01657497 -0.00158635]\n",
      "0.0528835940851\n"
     ]
    }
   ],
   "source": [
    "\"\"\" Calculating w and w_0 \"\"\"\n",
    "sigma_inv = inv(sigma)\n",
    "w = np.dot(sigma_inv, (Mu_2_new - Mu_1_new)) \n",
    "w_0 = np.add(np.divide((np.dot(Mu_2_new.T, np.dot(np.linalg.inv(sigma), Mu_2_new))),-2), np.divide((np.dot(Mu_1_new.T, np.dot(np.linalg.inv(sigma), Mu_1_new))),2))\n",
    "\n",
    "print(w)\n",
    "print(w_0)"
   ]
  },
  {
   "cell_type": "code",
   "execution_count": 28,
   "metadata": {
    "collapsed": true
   },
   "outputs": [],
   "source": [
    "def sigmoid(x):\n",
    "    ans = 1 / (1 + np.exp(- x))\n",
    "    return ans"
   ]
  },
  {
   "cell_type": "code",
   "execution_count": 29,
   "metadata": {
    "collapsed": true
   },
   "outputs": [],
   "source": [
    "def EvaluationMetrics(label_predict):\n",
    "    \n",
    "    \"\"\" Calculating Accuracy \"\"\"\n",
    "    temp = 0\n",
    "    for i in range(len(label_predict)):\n",
    "        if Test_set[i,0] == label_predict[i]:\n",
    "            temp = temp +1\n",
    "    accuracy = (temp/1200.)\n",
    "\n",
    "\n",
    "    \"\"\" Calculating Precision \"\"\"\n",
    "    temp_tp = 0\n",
    "    temp_fp = 0\n",
    "    for i in range(len(label_predict)):\n",
    "        if Test_set[i,0] == 1 and label_predict[i] == 1:\n",
    "            temp_tp = temp_tp +1\n",
    "        if Test_set[i,0] == 0 and label_predict[i] == 1:\n",
    "            temp_fp = temp_fp +1\n",
    "\n",
    "    precision = (temp_tp/(temp_tp + temp_fp))\n",
    "\n",
    "\n",
    "    \"\"\" Calculating Recall \"\"\"\n",
    "    temp_fn = 0\n",
    "    for i in range(len(label_predict)):\n",
    "        if Test_set[i,0] == 1 and label_predict[i] == 0:\n",
    "            temp_fn = temp_fn +1\n",
    "\n",
    "    recall = (temp_tp/(temp_tp + temp_fn))\n",
    "\n",
    "\n",
    "    \"\"\" Calculating F-Measure\"\"\"\n",
    "\n",
    "    f_measure = 2*((precision * recall)/ (precision + recall))\n",
    "    \n",
    "    return(accuracy, precision, recall, f_measure)"
   ]
  },
  {
   "cell_type": "code",
   "execution_count": 30,
   "metadata": {},
   "outputs": [
    {
     "name": "stdout",
     "output_type": "stream",
     "text": [
      "Accuracy: 52.75 \n",
      "Precision: 52.71828665568369 \n",
      "Recall: 53.333333333333336 \n",
      "F-Measure: 53.02402651201326\n"
     ]
    }
   ],
   "source": [
    "\"\"\" Classification of Test Set \"\"\"\n",
    "\n",
    "\"\"\" Extracting Test data \"\"\"\n",
    "Test_set = []\n",
    "with open ('DS2_test.csv','r') as file:\n",
    "    lines = file.readlines()\n",
    "    for l in lines:\n",
    "        lread = l.split(',') \n",
    "        fl_lread = list(map(lambda x: float(x), lread))\n",
    "        Test_set.append(fl_lread)\n",
    "Test_set = np.array(Test_set)\n",
    "Test_set_new = np.transpose(Test_set)\n",
    "\n",
    "result = []\n",
    "g = np.add(np.dot(w.T,Test_set_new[1:,:]),w_0)\n",
    "\n",
    "for i in range(g.shape[0]):\n",
    "    if sigmoid(g[i]) > 0.5:\n",
    "        result.append(0)\n",
    "    else: \n",
    "        result.append(1)\n",
    "result = np.array(result)\n",
    "\n",
    "a,p,r,f = EvaluationMetrics(result)\n",
    "print(\"Accuracy:\", a*100, \"\\n\"\"Precision:\", p*100, \"\\n\"\"Recall:\", r*100, \"\\n\"\"F-Measure:\", f*100 )\n"
   ]
  }
 ],
 "metadata": {
  "kernelspec": {
   "display_name": "Python 2",
   "language": "python",
   "name": "python2"
  },
  "language_info": {
   "codemirror_mode": {
    "name": "ipython",
    "version": 2
   },
   "file_extension": ".py",
   "mimetype": "text/x-python",
   "name": "python",
   "nbconvert_exporter": "python",
   "pygments_lexer": "ipython2",
   "version": "2.7.14"
  }
 },
 "nbformat": 4,
 "nbformat_minor": 2
}
