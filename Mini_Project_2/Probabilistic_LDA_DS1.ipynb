{
 "cells": [
  {
   "cell_type": "code",
   "execution_count": 2,
   "metadata": {
    "collapsed": true
   },
   "outputs": [],
   "source": [
    "import numpy as np\n",
    "from numpy.linalg import inv"
   ]
  },
  {
   "cell_type": "code",
   "execution_count": 3,
   "metadata": {
    "collapsed": true
   },
   "outputs": [],
   "source": [
    "\"\"\" Extracting Training data \"\"\"\n",
    "Train_set = []\n",
    "with open ('DS1_train.csv','r') as file:\n",
    "    lines = file.readlines()\n",
    "    for l in lines:\n",
    "        lread = l.split(',') \n",
    "        fl_lread = list(map(lambda x: float(x), lread))\n",
    "        Train_set.append(fl_lread)\n",
    "Train_set = np.array(Train_set)"
   ]
  },
  {
   "cell_type": "code",
   "execution_count": 4,
   "metadata": {
    "collapsed": true
   },
   "outputs": [],
   "source": [
    "\"\"\" Calculating Mu_1 \"\"\"\n",
    "Mu_1 = np.zeros(20)\n",
    "Mu_1 = np.array(Mu_1)\n",
    "for i in range(len(Train_set)):\n",
    "    if i < 1400:\n",
    "        Mu_1 = np.add(Mu_1, Train_set[i, 1:])  \n",
    "    else: \n",
    "        break \n",
    "Mu_1 = np.divide(Mu_1, i) \n",
    "\n",
    "# Mu_1 = np.matrix(Mu_1)\n",
    "count = i\n"
   ]
  },
  {
   "cell_type": "code",
   "execution_count": 5,
   "metadata": {
    "collapsed": true
   },
   "outputs": [],
   "source": [
    "\"\"\" Calculating Mu_2 \"\"\"\n",
    "Mu_2 = np.zeros(20)\n",
    "Mu_2 = np.array(Mu_2)\n",
    "for i in range(len(Train_set)):\n",
    "    if i >= 1400:\n",
    "        Mu_2 = np.add(Mu_2, Train_set[i, 1:])  \n",
    "Mu_2 = np.divide(Mu_2, count) "
   ]
  },
  {
   "cell_type": "code",
   "execution_count": 6,
   "metadata": {
    "collapsed": true
   },
   "outputs": [],
   "source": [
    "\"\"\" Transposing Matrices \"\"\"\n",
    "\n",
    "Train_set_new = np.transpose(Train_set)\n",
    "Mu_1_new = np.transpose(Mu_1)\n",
    "Mu_2_new = np.transpose(Mu_2)\n"
   ]
  },
  {
   "cell_type": "code",
   "execution_count": 7,
   "metadata": {
    "collapsed": true
   },
   "outputs": [],
   "source": [
    "\"\"\" Calculating Sigma \"\"\"\n",
    "train_x = Train_set_new.T[:,1:21]\n",
    "\n",
    "S1 = np.dot((train_x[:1400,:]-Mu_1_new[None,:]).T, (train_x[:1400,:]-Mu_1_new[None,:]))/ (train_x.shape[0]//2)\n",
    "       \n",
    "S2 = np.dot((train_x[1400:,:]-Mu_2_new[None,:]).T, (train_x[1400:,:]-Mu_2_new[None,:]))/ (train_x.shape[0]//2)\n",
    "\n",
    "sigma = 0.5*S1 + 0.5*S2\n",
    "\n",
    "\n",
    "# subtract_1 = []\n",
    "# multiplication_1 = []\n",
    "# summation_1 =np.zeros(20)\n",
    "# subtract_2 = []\n",
    "# multiplication_2 = []\n",
    "# summation_2 =np.zeros(20)\n",
    "#     subtract_1 = np.matrix(np.subtract(Train_set_new[1:,i], Mu_1_new))\n",
    "#     multiplication_1 = np.dot(subtract_1, subtract_1.T)\n",
    "#     summation_1 = np.add(summation_1, multiplication_1)\n",
    "   \n",
    "# print(summation_1)\n",
    "# print(s_1)\n",
    "# for i in range (1400,2800):\n",
    "#     subtract_2 = np.matrix(np.subtract(Train_set_new[1:,i], Mu_2_new))\n",
    "#     multiplication_2 = np.dot(subtract_2, subtract_2.T)\n",
    "#     summation_2 = np.add(summation_2, multiplication_2)\n",
    "    \n",
    "\n",
    "# print(summation_2.shape)\n",
    "# print(s_2.shape)\n",
    "\n",
    "# sigma = []\n",
    "# s_1 = np.zeros([20,20])\n",
    "# s_2 = np.zeros([20,20])\n",
    "\n",
    "# for i in range(len(Train_set_new[0])):\n",
    "#     if i < 1400:\n",
    "#         #s_1 = np.add(s_1,np.dot(np.subtract(Train_set_new[1:,i], Mu_1_new), np.transpose(np.subtract(Train_set_new[1:,i], Mu_1_new))))\n",
    "#         sample_sub = Train_set_new[1:, i] - Mu_1_new\n",
    "#         sample_sub_2 = np.matmul(sample_sub, sample_sub.transpose())/1400\n",
    "#         s_1 = s_1+sample_sub_2\n",
    "#     else:\n",
    "#         s_2 = np.add(s_2,np.dot(np.subtract(Train_set_new[1:,i], Mu_2_new), np.transpose(np.subtract(Train_set_new[1:,i], Mu_2_new))))\n",
    "        \n",
    "\n",
    "# sigma = np.divide(np.add(s_1, np.zeros([20,20])), 1400)\n",
    "\n",
    "\n",
    "\n",
    "# sigma = np.cov(Train_set_new[1:,:])\n",
    "\n",
    "# print(sigma)\n",
    "\n",
    "    \n"
   ]
  },
  {
   "cell_type": "code",
   "execution_count": 8,
   "metadata": {
    "scrolled": true
   },
   "outputs": [
    {
     "name": "stdout",
     "output_type": "stream",
     "text": [
      "[ 14.16586998  -8.35535249  -4.86043393  -2.40767403  -9.218218\n",
      "  -4.43168004  15.35081244 -23.7424695  -27.74432095   9.32552368\n",
      " -12.91786173 -11.27886639  14.66640396  12.01285969  -5.55751822\n",
      "  12.86672817  27.60209839  -6.71627261   0.36498293  -5.14436174]\n",
      "26.3785983414\n"
     ]
    }
   ],
   "source": [
    "\"\"\" Calculating w and w_0 \"\"\"\n",
    "sigma_inv = inv(sigma)\n",
    "w = np.dot(sigma_inv, (Mu_1_new - Mu_2_new)) \n",
    "#print(sigma_inv)\n",
    "# print (w.shape)\n",
    "# inverse = np.linalg.inv(sigma)\n",
    "# Mu_difference = Mu_1_new - Mu_2_new\n",
    "# w = np.dot(inverse, Mu_difference)\n",
    "\n",
    "# print(np.linalg.inv(sigma))\n",
    "# print(inverse.shape)\n",
    "# print(Mu_difference.shape)\n",
    "print(w)\n",
    "\n",
    "w_0 = np.add(np.divide((np.dot(Mu_1_new.T, np.dot(np.linalg.inv(sigma), Mu_1_new))),-2), np.divide((np.dot(Mu_2_new.T, np.dot(np.linalg.inv(sigma), Mu_2_new))),2))\n",
    "\n",
    "# part_1 = np.matmul(Mu_1_new.T , inverse)\n",
    "# part_2 = np.matmul(part_1, Mu_1_new)\n",
    "# part_3 = part_2 * (-0.5)\n",
    "\n",
    "# part_4 = np.matmul(Mu_2_new.T , inverse)\n",
    "# part_5 = np.matmul(part_4, Mu_2_new)\n",
    "# part_6 = part_5 * (0.5)\n",
    "\n",
    "# w_0 = part_3 + part_6\n",
    "\n",
    "print(w_0)"
   ]
  },
  {
   "cell_type": "code",
   "execution_count": 9,
   "metadata": {
    "collapsed": true
   },
   "outputs": [],
   "source": [
    "def sigmoid(x):\n",
    "    ans = 1 / (1 + np.exp(- x))\n",
    "    return ans"
   ]
  },
  {
   "cell_type": "code",
   "execution_count": 10,
   "metadata": {
    "collapsed": true
   },
   "outputs": [],
   "source": [
    "def EvaluationMetrics(label_predict):\n",
    "    \n",
    "    \"\"\" Calculating Accuracy \"\"\"\n",
    "    temp = 0\n",
    "    for i in range(len(label_predict)):\n",
    "        if Test_set[i,0] == label_predict[i]:\n",
    "            temp = temp +1\n",
    "    accuracy = (temp/1200.)\n",
    "\n",
    "\n",
    "    \"\"\" Calculating Precision \"\"\"\n",
    "    temp_tp = 0\n",
    "    temp_fp = 0\n",
    "    for i in range(len(label_predict)):\n",
    "        if Test_set[i,0] == 1 and label_predict[i] == 1:\n",
    "            temp_tp = temp_tp +1\n",
    "        if Test_set[i,0] == 0 and label_predict[i] == 1:\n",
    "            temp_fp = temp_fp +1\n",
    "\n",
    "    precision = (temp_tp/(temp_tp + temp_fp))\n",
    "\n",
    "\n",
    "    \"\"\" Calculating Recall \"\"\"\n",
    "    temp_fn = 0\n",
    "    for i in range(len(label_predict)):\n",
    "        if Test_set[i,0] == 1 and label_predict[i] == 0:\n",
    "            temp_fn = temp_fn +1\n",
    "\n",
    "    recall = (temp_tp/(temp_tp + temp_fn))\n",
    "\n",
    "\n",
    "    \"\"\" Calculating F-Measure\"\"\"\n",
    "\n",
    "    f_measure = 2*((precision * recall)/ (precision + recall))\n",
    "    \n",
    "    return(accuracy, precision, recall, f_measure)"
   ]
  },
  {
   "cell_type": "code",
   "execution_count": 11,
   "metadata": {},
   "outputs": [
    {
     "name": "stdout",
     "output_type": "stream",
     "text": [
      "Accuracy: 94.91666666666667 \n",
      "Precision: 95.29411764705881 \n",
      "Recall: 94.5 \n",
      "F-Measure: 94.89539748953973\n"
     ]
    }
   ],
   "source": [
    "\"\"\" Classification of Test Set \"\"\"\n",
    "\n",
    "\"\"\" Extracting Test data \"\"\"\n",
    "Test_set = []\n",
    "with open ('DS1_test.csv','r') as file:\n",
    "    lines = file.readlines()\n",
    "    for l in lines:\n",
    "        lread = l.split(',') \n",
    "        fl_lread = list(map(lambda x: float(x), lread))\n",
    "        Test_set.append(fl_lread)\n",
    "Test_set = np.array(Test_set)\n",
    "# print (Test_set.shape)\n",
    "\n",
    "Test_set_new = np.transpose(Test_set)\n",
    "# print (Test_set_new.shape)\n",
    "# sigmoid = []\n",
    "# print(Test_set_new[0, :])\n",
    "# print (Test_set_new.shape)\n",
    "# print (Test_set_new[1:, 0])\n",
    "# print(Test_set_new[1:,0])\n",
    "# print\n",
    "# print(Test_set_new[1:,:1])\n",
    "\n",
    "\n",
    "result = []\n",
    "g = np.add(np.dot(w.T,Test_set_new[1:,:]),w_0)\n",
    "\n",
    "for i in range(g.shape[0]):\n",
    "    if sigmoid(g[i]) > 0.5:\n",
    "        result.append(0)\n",
    "    else: \n",
    "        result.append(1)\n",
    "result = np.array(result)\n",
    "\n",
    "a,p,r,f = EvaluationMetrics(result)\n",
    "print(\"Accuracy:\", a*100, \"\\n\"\"Precision:\", p*100, \"\\n\"\"Recall:\", r*100, \"\\n\"\"F-Measure:\", f*100 )\n"
   ]
  }
 ],
 "metadata": {
  "kernelspec": {
   "display_name": "Python 2",
   "language": "python",
   "name": "python2"
  },
  "language_info": {
   "codemirror_mode": {
    "name": "ipython",
    "version": 2
   },
   "file_extension": ".py",
   "mimetype": "text/x-python",
   "name": "python",
   "nbconvert_exporter": "python",
   "pygments_lexer": "ipython2",
   "version": "2.7.14"
  }
 },
 "nbformat": 4,
 "nbformat_minor": 2
}
