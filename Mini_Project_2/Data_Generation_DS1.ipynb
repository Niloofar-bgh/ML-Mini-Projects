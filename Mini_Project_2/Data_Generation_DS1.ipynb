{
 "cells": [
  {
   "cell_type": "code",
   "execution_count": 3,
   "metadata": {
    "collapsed": true
   },
   "outputs": [],
   "source": [
    "import numpy as np"
   ]
  },
  {
   "cell_type": "code",
   "execution_count": 4,
   "metadata": {
    "collapsed": true,
    "scrolled": false
   },
   "outputs": [],
   "source": [
    "\"\"\" Extracting Cov-Matrix data \"\"\"\n",
    "cov_mat = []\n",
    "with open ('DS1_Cov.txt','r') as file:\n",
    "    lines = file.readlines()\n",
    "    for l in lines:\n",
    "        lread = l.split(',') [:-1]\n",
    "        fl_lread = list(map(lambda x: float(x), lread))\n",
    "        cov_mat.append(fl_lread)\n",
    "        \n",
    "cov_mat = np.asarray(cov_mat, dtype= np.float).squeeze()"
   ]
  },
  {
   "cell_type": "code",
   "execution_count": 5,
   "metadata": {
    "collapsed": true
   },
   "outputs": [],
   "source": [
    "\"\"\" Extracting Mean Vector of the Negative Class (DS1-m0) \"\"\"\n",
    "mean_neg = []\n",
    "with open ('DS1_m_0.txt','r') as file:\n",
    "    lines = file.readlines()\n",
    "    for l in lines:\n",
    "        lread = l.split(',')[:-1]\n",
    "        mn_lread = list(map(lambda x: float(x), lread))\n",
    "        mean_neg.append(mn_lread)\n",
    "mean_neg = np.asarray(mean_neg).squeeze()        "
   ]
  },
  {
   "cell_type": "code",
   "execution_count": 6,
   "metadata": {
    "collapsed": true
   },
   "outputs": [],
   "source": [
    "\"\"\" Extracting Mean Vector of the Positive Class (DS1-m1) \"\"\"\n",
    "mean_pos = []\n",
    "with open ('DS1_m_1.txt','r') as file:\n",
    "    lines = file.readlines()\n",
    "    for l in lines:\n",
    "        lread = l.split(',')[:-1]\n",
    "        mp_lread = list(map(lambda x: float(x), lread))\n",
    "        mean_pos.append(mp_lread)\n",
    "mean_pos = np.asarray(mean_pos).squeeze()\n"
   ]
  },
  {
   "cell_type": "code",
   "execution_count": 7,
   "metadata": {
    "collapsed": true
   },
   "outputs": [],
   "source": [
    "Negative_class = []\n",
    "np.random.seed(5)\n",
    "Negative_class = np.random.multivariate_normal(mean = mean_neg[:], cov = cov_mat , size = 2000)"
   ]
  },
  {
   "cell_type": "code",
   "execution_count": 8,
   "metadata": {
    "collapsed": true
   },
   "outputs": [],
   "source": [
    "''' Initialization '''\n",
    "permuted_negative_class = []\n",
    "Negative_class_test = []\n",
    "Negative_class_train = []\n",
    "np.random.seed(2)\n",
    "Negative_class_test = np.array(Negative_class_test)\n",
    "Negative_class_train = np.array(Negative_class_train)\n",
    "\n",
    "''' Applying Permutation on Dataset'''\n",
    "permuted_negative_class = np.random.permutation(Negative_class)\n",
    "\n",
    "'''Deviding Dataset into Test and Train Datasets'''\n",
    "Negative_class_test = permuted_negative_class[0:600]\n",
    "Negative_class_train = permuted_negative_class[600:]\n",
    "\n",
    "''' Adding Class Label'''\n",
    "Negative_class_test = np.insert(Negative_class_test, 0, 0, axis = 1)\n",
    "Negative_class_train = np.insert(Negative_class_train, 0, 0, axis = 1)"
   ]
  },
  {
   "cell_type": "code",
   "execution_count": 9,
   "metadata": {
    "collapsed": true
   },
   "outputs": [],
   "source": [
    "Positive_class = []\n",
    "np.random.seed(8)\n",
    "Positive_class = np.random.multivariate_normal(mean = mean_pos, cov = cov_mat, size = 2000)"
   ]
  },
  {
   "cell_type": "code",
   "execution_count": 10,
   "metadata": {
    "collapsed": true
   },
   "outputs": [],
   "source": [
    "''' Initialization '''\n",
    "permuted_positive_class = []\n",
    "Positive_class_test = []\n",
    "Positive_class_train = []\n",
    "np.random.seed(2)\n",
    "Positive_class_test = np.array(Positive_class_test)\n",
    "Positive_class_train = np.array(Positive_class_train)\n",
    "\n",
    "''' Applying Permutation on Dataset'''\n",
    "permuted_positive_class = np.random.permutation(Positive_class)\n",
    "\n",
    "'''Deviding Dataset into Test and Train Datasets'''\n",
    "Positive_class_test = permuted_positive_class[0:600]\n",
    "Positive_class_train = permuted_positive_class[600:]\n",
    "\n",
    "''' Adding Class Label'''\n",
    "Positive_class_test = np.insert(Positive_class_test, 0, 1, axis = 1)\n",
    "Positive_class_train = np.insert(Positive_class_train, 0, 1, axis = 1)"
   ]
  },
  {
   "cell_type": "code",
   "execution_count": 11,
   "metadata": {
    "collapsed": true
   },
   "outputs": [],
   "source": [
    "''' Saving Dataset'''\n",
    "train_set = []\n",
    "test_set = []\n",
    "\n",
    "test_set = Negative_class_test\n",
    "test_set = np.concatenate((test_set, Positive_class_test), axis = 0)\n",
    "\n",
    "train_set = Negative_class_train\n",
    "train_set = np.concatenate((train_set, Positive_class_train), axis = 0)\n",
    "\n",
    "np.savetxt('DS1_test.csv',test_set, delimiter =',' )\n",
    "np.savetxt('DS1_train.csv',train_set, delimiter =',' )"
   ]
  }
 ],
 "metadata": {
  "kernelspec": {
   "display_name": "Python 2",
   "language": "python",
   "name": "python2"
  },
  "language_info": {
   "codemirror_mode": {
    "name": "ipython",
    "version": 2
   },
   "file_extension": ".py",
   "mimetype": "text/x-python",
   "name": "python",
   "nbconvert_exporter": "python",
   "pygments_lexer": "ipython2",
   "version": "2.7.14"
  }
 },
 "nbformat": 4,
 "nbformat_minor": 2
}
